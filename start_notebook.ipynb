{
 "cells": [
  {
   "cell_type": "markdown",
   "metadata": {},
   "source": [
    "# start with setup"
   ]
  },
  {
   "cell_type": "code",
   "execution_count": 12,
   "metadata": {},
   "outputs": [],
   "source": [
    "%run -m pyage.core.bootstrap pyage.conf.test_conf"
   ]
  },
  {
   "cell_type": "code",
   "execution_count": 13,
   "metadata": {},
   "outputs": [
    {
     "name": "stdout",
     "output_type": "stream",
     "text": [
      "\u001b[0m\u001b[01;34mdocu\u001b[0m/   pyage-20180315_020035.log  setup.py\r\n",
      "\u001b[01;34mpyage\u001b[0m/  README.md                  start_notebook.ipynb\r\n"
     ]
    }
   ],
   "source": [
    "%ls"
   ]
  },
  {
   "cell_type": "code",
   "execution_count": 14,
   "metadata": {},
   "outputs": [
    {
     "name": "stdout",
     "output_type": "stream",
     "text": [
      "ERROR:root:File `u'pyage.core.bootstrap.py'` not found.\r\n",
      "ERROR:root:File `u'pyage.core.bootstrap.py'` not found.\r\n",
      "ERROR:root:File `u'pyage.core.bootstrap.py'` not found.\r\n",
      "ERROR:root:File `u'pyage.core.bootstrap.py'` not found.\r\n",
      "INFO:pyage.core.workplace:=========STEP 1=============\r\n",
      "INFO:pyage.core.workplace:=========STEP 2=============\r\n",
      "INFO:pyage.core.workplace:=========STEP 3=============\r\n",
      "INFO:pyage.core.workplace:=========STEP 4=============\r\n",
      "INFO:pyage.core.workplace:=========STEP 5=============\r\n",
      "INFO:pyage.core.workplace:=========STEP 6=============\r\n",
      "INFO:pyage.core.workplace:=========STEP 7=============\r\n",
      "INFO:pyage.core.workplace:=========STEP 8=============\r\n",
      "INFO:pyage.core.workplace:=========STEP 9=============\r\n",
      "INFO:pyage.core.workplace:=========STEP 10=============\r\n",
      "ERROR:root:File `u'ls.py'` not found.\r\n",
      "INFO:pyage.core.workplace:=========STEP 1=============\r\n",
      "INFO:pyage.core.workplace:=========STEP 2=============\r\n",
      "INFO:pyage.core.workplace:=========STEP 3=============\r\n",
      "INFO:pyage.core.workplace:=========STEP 4=============\r\n",
      "INFO:pyage.core.workplace:=========STEP 5=============\r\n",
      "INFO:pyage.core.workplace:=========STEP 6=============\r\n",
      "INFO:pyage.core.workplace:=========STEP 7=============\r\n",
      "INFO:pyage.core.workplace:=========STEP 8=============\r\n",
      "INFO:pyage.core.workplace:=========STEP 9=============\r\n",
      "INFO:pyage.core.workplace:=========STEP 10=============\r\n"
     ]
    }
   ],
   "source": [
    "%cat pyage-20180315_020035.log"
   ]
  },
  {
   "cell_type": "code",
   "execution_count": null,
   "metadata": {},
   "outputs": [],
   "source": []
  }
 ],
 "metadata": {
  "kernelspec": {
   "display_name": "Python 2",
   "language": "python",
   "name": "python2"
  },
  "language_info": {
   "codemirror_mode": {
    "name": "ipython",
    "version": 2
   },
   "file_extension": ".py",
   "mimetype": "text/x-python",
   "name": "python",
   "nbconvert_exporter": "python",
   "pygments_lexer": "ipython2",
   "version": "2.7.14"
  }
 },
 "nbformat": 4,
 "nbformat_minor": 2
}

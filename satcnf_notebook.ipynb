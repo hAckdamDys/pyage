{
 "cells": [
  {
   "cell_type": "code",
   "execution_count": 1,
   "metadata": {},
   "outputs": [],
   "source": [
    "!python -m pyage.core.bootstrap pyage.conf.test_conf"
   ]
  },
  {
   "cell_type": "code",
   "execution_count": 2,
   "metadata": {},
   "outputs": [],
   "source": [
    "!python -m pyage.core.bootstrap pyage.elect.conf"
   ]
  },
  {
   "cell_type": "code",
   "execution_count": 3,
   "metadata": {},
   "outputs": [
    {
     "name": "stdout",
     "output_type": "stream",
     "text": [
      "50var-80claus-satisable.cnf                 pyage-20180315_050858.log\r\n",
      "\u001b[0m\u001b[01;34mdocu\u001b[0m/                                       pyage-20180315_050922.log\r\n",
      "fitness_pyage.conf.femas_single_pyage.prev  pyage-20180315_050951.log\r\n",
      "fitness_pyage.conf.femas_single_pyage_.txt  pyage-20180315_051029.log\r\n",
      "fitness_pyage.elect.conf_pyage.txt          pyage-20180316_035127.log\r\n",
      "fitness_pyage.satcnf.conf_pyage.txt         pyage-20180316_035322.log\r\n",
      "\u001b[01;34mpyage\u001b[0m/                                      pyage-20180316_035350.log\r\n",
      "pyage-20180315_043640.log                   pyage-20180316_035421.log\r\n",
      "pyage-20180315_043736.log                   pyage-20180316_035521.log\r\n",
      "pyage-20180315_043841.log                   pyage-20180316_035633.log\r\n",
      "pyage-20180315_045545.log                   pyage-20180316_035727.log\r\n",
      "pyage-20180315_045604.log                   pyage-20180316_035744.log\r\n",
      "pyage-20180315_045628.log                   pyage-20180316_035810.log\r\n",
      "pyage-20180315_045657.log                   pyage-20180316_035944.log\r\n",
      "pyage-20180315_045735.log                   pyage-20180316_040014.log\r\n",
      "pyage-20180315_050125.log                   pyage-20180316_040116.log\r\n",
      "pyage-20180315_050144.log                   pyage-20180316_040118.log\r\n",
      "pyage-20180315_050208.log                   README.md\r\n",
      "pyage-20180315_050237.log                   satcnf_notebook.ipynb\r\n",
      "pyage-20180315_050315.log                   setup.py\r\n",
      "pyage-20180315_050839.log                   start_notebook.ipynb\r\n"
     ]
    }
   ],
   "source": [
    "%ls"
   ]
  },
  {
   "cell_type": "code",
   "execution_count": 4,
   "metadata": {},
   "outputs": [
    {
     "name": "stdout",
     "output_type": "stream",
     "text": [
      "0;9999949\r\n",
      "100;9999949\r\n",
      "200;9999949\r\n",
      "300;9999949\r\n",
      "400;9999949\r\n",
      "500;9999949\r\n",
      "600;9999949\r\n",
      "700;190\r\n",
      "800;180\r\n",
      "900;180\r\n",
      "1000;180\r\n",
      "1100;180\r\n",
      "1200;180\r\n",
      "1300;180\r\n",
      "1400;140\r\n",
      "1500;130\r\n",
      "1600;130\r\n",
      "1700;130\r\n",
      "1800;130\r\n",
      "1900;130\r\n",
      "2000;130\r\n",
      "2100;130\r\n",
      "2200;130\r\n",
      "2300;130\r\n",
      "2400;130\r\n",
      "2500;130\r\n",
      "2600;130\r\n",
      "2700;130\r\n",
      "2800;130\r\n",
      "2900;130\r\n",
      "3000;130\r\n",
      "3100;130\r\n",
      "3200;130\r\n",
      "3300;130\r\n",
      "3400;130\r\n",
      "3500;130\r\n",
      "3600;130\r\n",
      "3700;130\r\n",
      "3800;130\r\n",
      "3900;130\r\n",
      "4000;130\r\n",
      "4100;130\r\n",
      "4200;130\r\n",
      "4300;130\r\n",
      "4400;130\r\n",
      "4500;130\r\n",
      "4600;130\r\n",
      "4700;130\r\n",
      "4800;130\r\n",
      "4900;130\r\n",
      "5000;130\r\n",
      "5100;130\r\n",
      "5200;130\r\n",
      "5300;130\r\n",
      "5400;130\r\n",
      "5500;130\r\n",
      "5600;130\r\n",
      "5700;130\r\n",
      "5800;130\r\n",
      "5900;130\r\n",
      "6000;130\r\n",
      "6100;130\r\n",
      "6200;130\r\n",
      "6300;130\r\n",
      "6400;130\r\n",
      "6500;130\r\n",
      "6600;130\r\n",
      "6700;130\r\n",
      "6800;130\r\n",
      "6900;130\r\n",
      "7000;130\r\n",
      "7100;130\r\n",
      "7200;130\r\n",
      "7300;130\r\n",
      "7400;130\r\n",
      "7500;130\r\n",
      "7600;130\r\n",
      "7700;130\r\n",
      "7800;130\r\n",
      "7900;130\r\n",
      "8000;130\r\n",
      "8100;130\r\n",
      "8200;130\r\n",
      "8300;130\r\n",
      "8400;130\r\n",
      "8500;130\r\n",
      "8600;130\r\n",
      "8700;130\r\n",
      "8800;130\r\n",
      "8900;130\r\n",
      "9000;130\r\n",
      "9100;130\r\n",
      "9200;130\r\n",
      "9300;130\r\n",
      "9400;130\r\n",
      "9500;130\r\n",
      "9600;130\r\n",
      "9700;130\r\n",
      "9800;130\r\n",
      "9900;130\r\n",
      "10000;130\r\n",
      "10100;130\r\n",
      "10200;130\r\n",
      "10300;130\r\n",
      "10400;130\r\n",
      "10500;130\r\n",
      "10600;130\r\n",
      "10700;130\r\n",
      "10800;130\r\n",
      "10900;130\r\n",
      "11000;130\r\n",
      "11100;130\r\n",
      "11200;130\r\n",
      "11300;130\r\n",
      "11400;130\r\n",
      "11500;130\r\n",
      "11600;130\r\n",
      "11700;130\r\n",
      "11800;130\r\n",
      "11900;130\r\n",
      "12000;130\r\n",
      "12100;130\r\n",
      "12200;130\r\n",
      "12300;130\r\n",
      "12400;130\r\n",
      "12500;130\r\n",
      "12600;130\r\n",
      "12700;130\r\n",
      "12800;130\r\n",
      "12900;130\r\n",
      "13000;130\r\n",
      "13100;130\r\n",
      "13200;130\r\n",
      "13300;130\r\n",
      "13400;130\r\n",
      "13500;130\r\n",
      "13600;130\r\n",
      "13700;130\r\n",
      "13800;130\r\n",
      "13900;130\r\n",
      "14000;130\r\n",
      "14100;130\r\n",
      "14200;130\r\n",
      "14300;130\r\n",
      "14400;130\r\n",
      "14500;130\r\n",
      "14600;130\r\n",
      "14700;130\r\n",
      "14800;130\r\n",
      "14900;130\r\n",
      "15000;130\r\n",
      "15100;130\r\n",
      "15200;130\r\n",
      "15300;130\r\n",
      "15400;130\r\n",
      "15500;130\r\n",
      "15600;130\r\n",
      "15700;130\r\n",
      "15800;130\r\n",
      "15900;130\r\n",
      "16000;130\r\n",
      "16100;130\r\n",
      "16200;130\r\n",
      "16300;130\r\n",
      "16400;130\r\n",
      "16500;130\r\n",
      "16600;130\r\n",
      "16700;130\r\n",
      "16800;130\r\n",
      "16900;130\r\n",
      "17000;130\r\n",
      "17100;130\r\n",
      "17200;130\r\n",
      "17300;130\r\n",
      "17400;130\r\n",
      "17500;130\r\n",
      "17600;130\r\n",
      "17700;130\r\n",
      "17800;130\r\n",
      "17900;130\r\n",
      "18000;130\r\n",
      "18100;130\r\n",
      "18200;130\r\n",
      "18300;130\r\n",
      "18400;130\r\n",
      "18500;130\r\n",
      "18600;130\r\n",
      "18700;130\r\n",
      "18800;130\r\n",
      "18900;130\r\n",
      "19000;130\r\n",
      "19100;130\r\n",
      "19200;130\r\n",
      "19300;130\r\n",
      "19400;130\r\n",
      "19500;130\r\n",
      "19600;130\r\n",
      "19700;130\r\n",
      "19800;130\r\n",
      "19900;130\r\n",
      "0;9999949\r\n",
      "100;9999949\r\n",
      "200;9999949\r\n",
      "300;9999949\r\n",
      "400;9999949\r\n",
      "500;9999949\r\n",
      "600;9999949\r\n",
      "700;9999949\r\n",
      "800;9999949\r\n",
      "900;9999949\r\n",
      "1000;9999949\r\n",
      "1100;9999949\r\n",
      "1200;9999949\r\n",
      "1300;9999949\r\n",
      "1400;9999949\r\n",
      "1500;9999949\r\n",
      "1600;9999949\r\n",
      "1700;9999949\r\n",
      "1800;9999949\r\n",
      "1900;9999949\r\n",
      "2000;9999949\r\n",
      "2100;9999949\r\n",
      "2200;190\r\n",
      "2300;190\r\n",
      "2400;190\r\n",
      "2500;190\r\n",
      "2600;190\r\n",
      "2700;190\r\n",
      "2800;190\r\n",
      "2900;190\r\n",
      "3000;190\r\n",
      "3100;190\r\n",
      "3200;190\r\n",
      "3300;190\r\n",
      "3400;190\r\n",
      "3500;190\r\n",
      "3600;190\r\n",
      "3700;190\r\n",
      "3800;190\r\n",
      "3900;190\r\n",
      "4000;190\r\n",
      "4100;190\r\n",
      "4200;190\r\n",
      "4300;190\r\n",
      "4400;190\r\n",
      "4500;190\r\n",
      "4600;190\r\n",
      "4700;190\r\n",
      "4800;190\r\n",
      "4900;190\r\n",
      "5000;190\r\n",
      "5100;190\r\n",
      "5200;190\r\n",
      "5300;190\r\n",
      "5400;190\r\n",
      "5500;190\r\n",
      "5600;190\r\n",
      "5700;190\r\n",
      "5800;190\r\n",
      "5900;190\r\n",
      "6000;190\r\n",
      "6100;190\r\n",
      "6200;190\r\n",
      "6300;190\r\n",
      "6400;190\r\n",
      "6500;190\r\n",
      "6600;190\r\n",
      "6700;190\r\n",
      "6800;190\r\n",
      "6900;190\r\n",
      "7000;190\r\n",
      "7100;190\r\n",
      "7200;190\r\n",
      "7300;190\r\n",
      "7400;190\r\n",
      "7500;190\r\n",
      "7600;190\r\n",
      "7700;190\r\n",
      "7800;190\r\n",
      "7900;190\r\n",
      "8000;190\r\n",
      "8100;190\r\n",
      "8200;190\r\n",
      "8300;190\r\n",
      "8400;190\r\n",
      "8500;190\r\n",
      "8600;190\r\n",
      "8700;190\r\n",
      "8800;190\r\n",
      "8900;190\r\n",
      "9000;190\r\n",
      "9100;190\r\n",
      "9200;190\r\n",
      "9300;190\r\n",
      "9400;190\r\n",
      "9500;190\r\n",
      "9600;190\r\n",
      "9700;190\r\n",
      "9800;190\r\n",
      "9900;190\r\n",
      "10000;190\r\n",
      "10100;190\r\n",
      "10200;190\r\n",
      "10300;190\r\n",
      "10400;190\r\n",
      "10500;190\r\n",
      "10600;190\r\n",
      "10700;190\r\n",
      "10800;190\r\n",
      "10900;190\r\n",
      "11000;190\r\n",
      "11100;190\r\n",
      "11200;190\r\n",
      "11300;190\r\n",
      "11400;190\r\n",
      "11500;190\r\n",
      "11600;190\r\n",
      "11700;190\r\n",
      "11800;190\r\n",
      "11900;190\r\n",
      "12000;190\r\n",
      "12100;190\r\n",
      "12200;190\r\n",
      "12300;190\r\n",
      "12400;190\r\n",
      "12500;190\r\n",
      "12600;190\r\n",
      "12700;190\r\n",
      "12800;190\r\n",
      "12900;190\r\n",
      "13000;190\r\n",
      "13100;190\r\n",
      "13200;190\r\n",
      "13300;190\r\n",
      "13400;190\r\n",
      "13500;190\r\n",
      "13600;190\r\n",
      "13700;190\r\n",
      "13800;190\r\n",
      "13900;190\r\n",
      "14000;190\r\n",
      "14100;190\r\n",
      "14200;190\r\n",
      "14300;190\r\n",
      "14400;190\r\n",
      "14500;190\r\n",
      "14600;190\r\n",
      "14700;190\r\n",
      "14800;190\r\n",
      "14900;190\r\n",
      "15000;190\r\n",
      "15100;190\r\n",
      "15200;190\r\n",
      "15300;190\r\n",
      "15400;190\r\n",
      "15500;190\r\n",
      "15600;190\r\n",
      "15700;190\r\n",
      "15800;190\r\n",
      "15900;190\r\n",
      "16000;190\r\n",
      "16100;190\r\n",
      "16200;190\r\n",
      "16300;190\r\n",
      "16400;190\r\n",
      "16500;190\r\n",
      "16600;190\r\n",
      "16700;190\r\n",
      "16800;190\r\n",
      "16900;190\r\n",
      "17000;190\r\n",
      "17100;190\r\n",
      "17200;190\r\n",
      "17300;190\r\n",
      "17400;190\r\n",
      "17500;190\r\n",
      "17600;190\r\n",
      "17700;190\r\n",
      "17800;190\r\n",
      "17900;190\r\n",
      "18000;190\r\n",
      "18100;190\r\n",
      "18200;190\r\n",
      "18300;190\r\n",
      "18400;190\r\n",
      "18500;190\r\n",
      "18600;190\r\n",
      "18700;190\r\n",
      "18800;190\r\n",
      "18900;190\r\n",
      "19000;190\r\n",
      "19100;190\r\n",
      "19200;190\r\n",
      "19300;190\r\n",
      "19400;190\r\n",
      "19500;190\r\n",
      "19600;190\r\n",
      "19700;190\r\n",
      "19800;190\r\n",
      "19900;190\r\n"
     ]
    }
   ],
   "source": [
    "%cat fitness_pyage.elect.conf_pyage.txt"
   ]
  },
  {
   "cell_type": "code",
   "execution_count": 11,
   "metadata": {},
   "outputs": [
    {
     "name": "stdout",
     "output_type": "stream",
     "text": [
      "0;67\n",
      "100;67\n",
      "200;67\n",
      "CPU times: user 28 ms, sys: 12 ms, total: 40 ms\n",
      "Wall time: 1.61 s\n"
     ]
    }
   ],
   "source": [
    "%%time\n",
    "%rm fitness_pyage.satcnf.conf_pyage.txt\n",
    "!python -m pyage.core.bootstrap pyage.satcnf.conf\n",
    "%cat fitness_pyage.satcnf.conf_pyage.txt"
   ]
  },
  {
   "cell_type": "code",
   "execution_count": 13,
   "metadata": {},
   "outputs": [
    {
     "name": "stdout",
     "output_type": "stream",
     "text": [
      "0;67\n",
      "100;67\n",
      "200;67\n",
      "CPU times: user 24 ms, sys: 4 ms, total: 28 ms\n",
      "Wall time: 954 ms\n"
     ]
    }
   ],
   "source": [
    "%%time\n",
    "# changed agg_size to 10\n",
    "%rm fitness_pyage.satcnf.conf_pyage.txt\n",
    "!python -m pyage.core.bootstrap pyage.satcnf.conf\n",
    "%cat fitness_pyage.satcnf.conf_pyage.txt"
   ]
  },
  {
   "cell_type": "code",
   "execution_count": 16,
   "metadata": {},
   "outputs": [
    {
     "name": "stdout",
     "output_type": "stream",
     "text": [
      "0;67\n",
      "100;67\n",
      "200;67\n",
      "CPU times: user 16 ms, sys: 12 ms, total: 28 ms\n",
      "Wall time: 929 ms\n"
     ]
    }
   ],
   "source": [
    "%%time\n",
    "# back to 0.1 prob 0.3 mutation and agg_size 40\n",
    "%rm fitness_pyage.satcnf.conf_pyage.txt\n",
    "!python -m pyage.core.bootstrap pyage.satcnf.conf\n",
    "%cat fitness_pyage.satcnf.conf_pyage.txt"
   ]
  },
  {
   "cell_type": "code",
   "execution_count": 19,
   "metadata": {},
   "outputs": [
    {
     "name": "stdout",
     "output_type": "stream",
     "text": [
      "0;67\n",
      "100;67\n",
      "200;67\n",
      "CPU times: user 112 ms, sys: 20 ms, total: 132 ms\n",
      "Wall time: 5.13 s\n"
     ]
    }
   ],
   "source": [
    "%%time\n",
    "# files change, 10 agents count\n",
    "%rm fitness_pyage.satcnf.conf_pyage.txt\n",
    "!python -m pyage.core.bootstrap pyage.satcnf.conf\n",
    "%cat fitness_pyage.satcnf.conf_pyage.txt"
   ]
  },
  {
   "cell_type": "code",
   "execution_count": 13,
   "metadata": {},
   "outputs": [
    {
     "name": "stdout",
     "output_type": "stream",
     "text": [
      "0;74\n",
      "100;78\n",
      "200;78\n",
      "300;78\n",
      "400;78\n",
      "500;78\n",
      "600;78\n",
      "700;78\n",
      "800;78\n",
      "900;78\n",
      "CPU times: user 3.04 s, sys: 196 ms, total: 3.24 s\n",
      "Wall time: 2min 37s\n"
     ]
    }
   ],
   "source": [
    "%%time\n",
    "# files change, 1000 step, 10 agents count\n",
    "!python -m pyage.core.bootstrap pyage.satcnf.conf\n",
    "%cat fitness_pyage.satcnf.conf_pyage.txt"
   ]
  },
  {
   "cell_type": "code",
   "execution_count": 14,
   "metadata": {},
   "outputs": [],
   "source": [
    "%mv fitness_pyage.satcnf.conf_pyage.txt satcnf_1000step_10agents_250init.txt"
   ]
  },
  {
   "cell_type": "markdown",
   "metadata": {},
   "source": [
    "# since this 80 clauses converges too fast lets try to get 80"
   ]
  },
  {
   "cell_type": "code",
   "execution_count": 15,
   "metadata": {},
   "outputs": [
    {
     "name": "stdout",
     "output_type": "stream",
     "text": [
      "0;74\n",
      "100;79\n",
      "200;79\n",
      "CPU times: user 476 ms, sys: 28 ms, total: 504 ms\n",
      "Wall time: 24.2 s\n"
     ]
    }
   ],
   "source": [
    "%%time\n",
    "# files change, 300 step, more changeable\n",
    "!python -m pyage.core.bootstrap pyage.satcnf.conf\n",
    "%cat fitness_pyage.satcnf.conf_pyage.txt"
   ]
  },
  {
   "cell_type": "code",
   "execution_count": 18,
   "metadata": {},
   "outputs": [
    {
     "name": "stdout",
     "output_type": "stream",
     "text": [
      "0;74\n",
      "100;79\n",
      "200;79\n",
      "0;74\n",
      "100;78\n",
      "200;78\n",
      "300;78\n",
      "0;74\n",
      "100;78\n",
      "200;78\n",
      "300;78\n",
      "0;74\n",
      "100;78\n",
      "200;78\n",
      "300;78\n",
      "CPU times: user 596 ms, sys: 64 ms, total: 660 ms\n",
      "Wall time: 32.3 s\n"
     ]
    }
   ],
   "source": [
    "%%time\n",
    "# files change, 400 step, more changeable tournV2\n",
    "!python -m pyage.core.bootstrap pyage.satcnf.conf\n",
    "%cat fitness_pyage.satcnf.conf_pyage.txt"
   ]
  },
  {
   "cell_type": "code",
   "execution_count": 19,
   "metadata": {},
   "outputs": [
    {
     "name": "stdout",
     "output_type": "stream",
     "text": [
      "0;74\n",
      "100;79\n",
      "200;79\n",
      "0;74\n",
      "100;78\n",
      "200;78\n",
      "300;78\n",
      "0;74\n",
      "100;78\n",
      "200;78\n",
      "300;78\n",
      "0;74\n",
      "100;78\n",
      "200;78\n",
      "300;78\n",
      "0;74\n",
      "100;78\n",
      "200;78\n",
      "300;78\n",
      "CPU times: user 620 ms, sys: 36 ms, total: 656 ms\n",
      "Wall time: 31.7 s\n"
     ]
    }
   ],
   "source": [
    "%%time\n",
    "# files change, 400 step, more changeable tournV2, mut 0.2, mut evol 0.5, worse fac 0.8, tourn 20, size 20\n",
    "!python -m pyage.core.bootstrap pyage.satcnf.conf\n",
    "%cat fitness_pyage.satcnf.conf_pyage.txt"
   ]
  },
  {
   "cell_type": "code",
   "execution_count": 20,
   "metadata": {},
   "outputs": [
    {
     "name": "stdout",
     "output_type": "stream",
     "text": [
      "0;74\n",
      "100;79\n",
      "200;79\n",
      "0;74\n",
      "100;78\n",
      "200;78\n",
      "300;78\n",
      "0;74\n",
      "100;78\n",
      "200;78\n",
      "300;78\n",
      "0;74\n",
      "100;78\n",
      "200;78\n",
      "300;78\n",
      "0;74\n",
      "100;78\n",
      "200;78\n",
      "300;78\n",
      "0;74\n",
      "100;78\n",
      "CPU times: user 536 ms, sys: 48 ms, total: 584 ms\n",
      "Wall time: 28.7 s\n"
     ]
    }
   ],
   "source": [
    "%%time\n",
    "# files change, 200 step, more changeable tournV2, mut 0.2, mut evol 0.5, worse fac 0.8, tourn 20, size 20, cross 70\n",
    "!python -m pyage.core.bootstrap pyage.satcnf.conf\n",
    "%cat fitness_pyage.satcnf.conf_pyage.txt"
   ]
  },
  {
   "cell_type": "code",
   "execution_count": 21,
   "metadata": {},
   "outputs": [],
   "source": [
    "%mv fitness_pyage.satcnf.conf_pyage.txt fitness_pyage.satcnf.conf_pyage.old"
   ]
  },
  {
   "cell_type": "code",
   "execution_count": 25,
   "metadata": {},
   "outputs": [
    {
     "name": "stdout",
     "output_type": "stream",
     "text": [
      "0;74\n",
      "100;78\n",
      "0;74\n",
      "100;78\n",
      "0;74\n",
      "100;78\n",
      "200;78\n",
      "300;78\n",
      "400;78\n",
      "500;78\n",
      "0;74\n",
      "100;75\n",
      "200;77\n",
      "300;75\n",
      "400;76\n",
      "500;77\n",
      "600;74\n",
      "700;75\n",
      "800;77\n",
      "900;75\n",
      "1000;73\n",
      "1100;75\n",
      "1200;76\n",
      "1300;75\n",
      "1400;77\n",
      "1500;74\n",
      "CPU times: user 252 ms, sys: 20 ms, total: 272 ms\n",
      "Wall time: 12.9 s\n"
     ]
    }
   ],
   "source": [
    "%%time\n",
    "# files change, 1600 step, more changeable tournV2, mut 0.1, mut evol 0.1,\n",
    "# worse fac 0.1, tourn 10,10 , cross 11, 2 agents, seed = 50, SIZE = 11\n",
    "!python -m pyage.core.bootstrap pyage.satcnf.conf\n",
    "%cat fitness_pyage.satcnf.conf_pyage.txt"
   ]
  },
  {
   "cell_type": "code",
   "execution_count": 26,
   "metadata": {},
   "outputs": [],
   "source": [
    "%mv fitness_pyage.satcnf.conf_pyage.txt fitness_pyage.satcnf.conf_pyage.old2"
   ]
  },
  {
   "cell_type": "code",
   "execution_count": 27,
   "metadata": {},
   "outputs": [
    {
     "name": "stdout",
     "output_type": "stream",
     "text": [
      "cat: fitness_pyage.satcnf.conf_pyage.t: No such file or directory\n",
      "CPU times: user 264 ms, sys: 20 ms, total: 284 ms\n",
      "Wall time: 13.4 s\n"
     ]
    }
   ],
   "source": [
    "%%time\n",
    "# files change, 1600 step, more changeable tournV2, mut 0.1, mut evol 0.1,\n",
    "# worse fac 0.1, tourn 10,10 , cross 11, 2 agents, seed = 500, SIZE = 0\n",
    "!python -m pyage.core.bootstrap pyage.satcnf.conf\n",
    "%cat fitness_pyage.satcnf.conf_pyage.txt"
   ]
  },
  {
   "cell_type": "code",
   "execution_count": 28,
   "metadata": {},
   "outputs": [
    {
     "name": "stdout",
     "output_type": "stream",
     "text": [
      "0;74\n",
      "100;77\n",
      "200;76\n",
      "300;76\n",
      "400;76\n",
      "500;75\n",
      "600;76\n",
      "700;77\n",
      "800;74\n",
      "900;76\n",
      "1000;75\n",
      "1100;75\n",
      "1200;76\n",
      "1300;76\n",
      "1400;77\n",
      "1500;75\n",
      "0;74\n",
      "100;78\n",
      "200;78\n",
      "300;78\n",
      "400;78\n",
      "500;78\n",
      "600;78\n",
      "700;78\n",
      "800;78\n",
      "900;78\n",
      "1000;79\n",
      "1100;79\n",
      "1200;79\n",
      "1300;79\n",
      "1400;79\n",
      "1500;79\n",
      "CPU times: user 2.68 s, sys: 208 ms, total: 2.89 s\n",
      "Wall time: 2min 20s\n"
     ]
    }
   ],
   "source": [
    "%%time\n",
    "# files change, 1600 step, more changeable tournV2, mut 0.1, mut evol 0.1,\n",
    "# worse fac 0.1, tourn 10,10 , cross 100, 2 agents, seed = 500, SIZE = 0\n",
    "!python -m pyage.core.bootstrap pyage.satcnf.conf\n",
    "%cat fitness_pyage.satcnf.conf_pyage.txt"
   ]
  },
  {
   "cell_type": "code",
   "execution_count": 35,
   "metadata": {},
   "outputs": [],
   "source": [
    "import matplotlib.pyplot as plt\n",
    "import pandas as pd"
   ]
  },
  {
   "cell_type": "code",
   "execution_count": 40,
   "metadata": {},
   "outputs": [],
   "source": [
    "plot_data=pd.read_csv(\"fitness_pyage.satcnf.conf_pyage.txt\",sep=\";\",header=None,index_col=0)"
   ]
  },
  {
   "cell_type": "code",
   "execution_count": 41,
   "metadata": {},
   "outputs": [
    {
     "data": {
      "text/html": [
       "<div>\n",
       "<style scoped>\n",
       "    .dataframe tbody tr th:only-of-type {\n",
       "        vertical-align: middle;\n",
       "    }\n",
       "\n",
       "    .dataframe tbody tr th {\n",
       "        vertical-align: top;\n",
       "    }\n",
       "\n",
       "    .dataframe thead th {\n",
       "        text-align: right;\n",
       "    }\n",
       "</style>\n",
       "<table border=\"1\" class=\"dataframe\">\n",
       "  <thead>\n",
       "    <tr style=\"text-align: right;\">\n",
       "      <th></th>\n",
       "      <th>1</th>\n",
       "    </tr>\n",
       "    <tr>\n",
       "      <th>0</th>\n",
       "      <th></th>\n",
       "    </tr>\n",
       "  </thead>\n",
       "  <tbody>\n",
       "    <tr>\n",
       "      <th>0</th>\n",
       "      <td>74</td>\n",
       "    </tr>\n",
       "    <tr>\n",
       "      <th>100</th>\n",
       "      <td>77</td>\n",
       "    </tr>\n",
       "    <tr>\n",
       "      <th>200</th>\n",
       "      <td>76</td>\n",
       "    </tr>\n",
       "    <tr>\n",
       "      <th>300</th>\n",
       "      <td>76</td>\n",
       "    </tr>\n",
       "    <tr>\n",
       "      <th>400</th>\n",
       "      <td>76</td>\n",
       "    </tr>\n",
       "    <tr>\n",
       "      <th>500</th>\n",
       "      <td>75</td>\n",
       "    </tr>\n",
       "    <tr>\n",
       "      <th>600</th>\n",
       "      <td>76</td>\n",
       "    </tr>\n",
       "    <tr>\n",
       "      <th>700</th>\n",
       "      <td>77</td>\n",
       "    </tr>\n",
       "    <tr>\n",
       "      <th>800</th>\n",
       "      <td>74</td>\n",
       "    </tr>\n",
       "    <tr>\n",
       "      <th>900</th>\n",
       "      <td>76</td>\n",
       "    </tr>\n",
       "    <tr>\n",
       "      <th>1000</th>\n",
       "      <td>75</td>\n",
       "    </tr>\n",
       "    <tr>\n",
       "      <th>1100</th>\n",
       "      <td>75</td>\n",
       "    </tr>\n",
       "    <tr>\n",
       "      <th>1200</th>\n",
       "      <td>76</td>\n",
       "    </tr>\n",
       "    <tr>\n",
       "      <th>1300</th>\n",
       "      <td>76</td>\n",
       "    </tr>\n",
       "    <tr>\n",
       "      <th>1400</th>\n",
       "      <td>77</td>\n",
       "    </tr>\n",
       "    <tr>\n",
       "      <th>1500</th>\n",
       "      <td>75</td>\n",
       "    </tr>\n",
       "    <tr>\n",
       "      <th>0</th>\n",
       "      <td>74</td>\n",
       "    </tr>\n",
       "    <tr>\n",
       "      <th>100</th>\n",
       "      <td>78</td>\n",
       "    </tr>\n",
       "    <tr>\n",
       "      <th>200</th>\n",
       "      <td>78</td>\n",
       "    </tr>\n",
       "    <tr>\n",
       "      <th>300</th>\n",
       "      <td>78</td>\n",
       "    </tr>\n",
       "    <tr>\n",
       "      <th>400</th>\n",
       "      <td>78</td>\n",
       "    </tr>\n",
       "    <tr>\n",
       "      <th>500</th>\n",
       "      <td>78</td>\n",
       "    </tr>\n",
       "    <tr>\n",
       "      <th>600</th>\n",
       "      <td>78</td>\n",
       "    </tr>\n",
       "    <tr>\n",
       "      <th>700</th>\n",
       "      <td>78</td>\n",
       "    </tr>\n",
       "    <tr>\n",
       "      <th>800</th>\n",
       "      <td>78</td>\n",
       "    </tr>\n",
       "    <tr>\n",
       "      <th>900</th>\n",
       "      <td>78</td>\n",
       "    </tr>\n",
       "    <tr>\n",
       "      <th>1000</th>\n",
       "      <td>79</td>\n",
       "    </tr>\n",
       "    <tr>\n",
       "      <th>1100</th>\n",
       "      <td>79</td>\n",
       "    </tr>\n",
       "    <tr>\n",
       "      <th>1200</th>\n",
       "      <td>79</td>\n",
       "    </tr>\n",
       "    <tr>\n",
       "      <th>1300</th>\n",
       "      <td>79</td>\n",
       "    </tr>\n",
       "    <tr>\n",
       "      <th>1400</th>\n",
       "      <td>79</td>\n",
       "    </tr>\n",
       "    <tr>\n",
       "      <th>1500</th>\n",
       "      <td>79</td>\n",
       "    </tr>\n",
       "  </tbody>\n",
       "</table>\n",
       "</div>"
      ],
      "text/plain": [
       "       1\n",
       "0       \n",
       "0     74\n",
       "100   77\n",
       "200   76\n",
       "300   76\n",
       "400   76\n",
       "500   75\n",
       "600   76\n",
       "700   77\n",
       "800   74\n",
       "900   76\n",
       "1000  75\n",
       "1100  75\n",
       "1200  76\n",
       "1300  76\n",
       "1400  77\n",
       "1500  75\n",
       "0     74\n",
       "100   78\n",
       "200   78\n",
       "300   78\n",
       "400   78\n",
       "500   78\n",
       "600   78\n",
       "700   78\n",
       "800   78\n",
       "900   78\n",
       "1000  79\n",
       "1100  79\n",
       "1200  79\n",
       "1300  79\n",
       "1400  79\n",
       "1500  79"
      ]
     },
     "execution_count": 41,
     "metadata": {},
     "output_type": "execute_result"
    }
   ],
   "source": [
    "plot_data"
   ]
  },
  {
   "cell_type": "code",
   "execution_count": 43,
   "metadata": {},
   "outputs": [],
   "source": [
    "plot_data1=plot_data[:16]\n",
    "plot_data2=plot_data[16:]"
   ]
  },
  {
   "cell_type": "code",
   "execution_count": 48,
   "metadata": {},
   "outputs": [
    {
     "data": {
      "text/plain": [
       "<matplotlib.axes._subplots.AxesSubplot at 0x7f0316644b90>"
      ]
     },
     "execution_count": 48,
     "metadata": {},
     "output_type": "execute_result"
    },
    {
     "data": {
      "image/png": "[encoded data removed]",
      "text/plain": [
       "<Figure size 432x288 with 1 Axes>"
      ]
     },
     "metadata": {},
     "output_type": "display_data"
    }
   ],
   "source": [
    "ax=plt.gca(title=\"Satcnf - 50 var - 80 clauses - 500 size initialized\")\n",
    "plot_data1.columns=[\"low cross size , cross 11\"]\n",
    "plot_data1.plot(ax=ax)\n",
    "plot_data2.columns=[\"big cross size, cross 100\"]\n",
    "plot_data2.plot(ax=ax)"
   ]
  },
  {
   "cell_type": "code",
   "execution_count": 138,
   "metadata": {},
   "outputs": [],
   "source": [
    "def load_values(file):\n",
    "    values = []\n",
    "    variables_size = 0\n",
    "    clauses_size = 0\n",
    "    max_var = 0\n",
    "    clause=list()\n",
    "    with open(file, \"r\") as ins:\n",
    "        array = []\n",
    "        for line in ins:\n",
    "            if len(line) < 2:\n",
    "                continue\n",
    "            if line[0] == 'c':\n",
    "                continue\n",
    "            if line[0] == 'p':\n",
    "                problem_line = line.split(\" \")\n",
    "                variables_size = int(problem_line[2])\n",
    "                clauses_size = int(problem_line[3])\n",
    "                continue\n",
    "            \n",
    "            line=' '.join(line.split())\n",
    "            splitted = line.split(\" \")\n",
    "            for num_str in splitted:\n",
    "                num = int(num_str)\n",
    "                if num == 0:\n",
    "                    values.append(clause)\n",
    "                    clause=[]\n",
    "                else:\n",
    "                    clause.append(num)\n",
    "    return values, variables_size, clauses_size"
   ]
  },
  {
   "cell_type": "code",
   "execution_count": 139,
   "metadata": {},
   "outputs": [],
   "source": [
    "%mv fitness_pyage.satcnf.conf_pyage.txt fitness_pyage.satcnf.conf_pyage.old3"
   ]
  },
  {
   "cell_type": "code",
   "execution_count": 140,
   "metadata": {},
   "outputs": [
    {
     "name": "stdout",
     "output_type": "stream",
     "text": [
      "0;1000\n",
      "CPU times: user 932 ms, sys: 84 ms, total: 1.02 s\n",
      "Wall time: 48.9 s\n"
     ]
    }
   ],
   "source": [
    "%%time\n",
    "# files change, 100 step, more changeable tournV2, mut 0.1, mut evol 0.1,\n",
    "# worse fac 0.1, tourn 10,10 , cross 100, 2 agents, seed = 0, SIZE = 250\n",
    "!python -m pyage.core.bootstrap pyage.satcnf.conf\n",
    "%cat fitness_pyage.satcnf.conf_pyage.txt"
   ]
  },
  {
   "cell_type": "code",
   "execution_count": 141,
   "metadata": {},
   "outputs": [
    {
     "name": "stdout",
     "output_type": "stream",
     "text": [
      "INFO:pyage.core.workplace:=========STEP 1=============\r\n",
      "INFO:pyage.core.stats.gnuplot:1000\r\n",
      "INFO:pyage.core.workplace:=========STEP 2=============\r\n",
      "INFO:pyage.core.stats.gnuplot:1019\r\n",
      "INFO:pyage.core.workplace:=========STEP 3=============\r\n",
      "INFO:pyage.core.stats.gnuplot:1033\r\n",
      "INFO:pyage.core.workplace:=========STEP 4=============\r\n",
      "INFO:pyage.core.stats.gnuplot:1047\r\n",
      "INFO:pyage.core.workplace:=========STEP 5=============\r\n",
      "INFO:pyage.core.stats.gnuplot:1053\r\n",
      "INFO:pyage.core.workplace:=========STEP 6=============\r\n",
      "INFO:pyage.core.stats.gnuplot:1063\r\n",
      "INFO:pyage.core.workplace:=========STEP 7=============\r\n",
      "INFO:pyage.core.stats.gnuplot:1066\r\n",
      "INFO:pyage.core.workplace:=========STEP 8=============\r\n",
      "INFO:pyage.core.stats.gnuplot:1070\r\n",
      "INFO:pyage.core.workplace:=========STEP 9=============\r\n",
      "INFO:pyage.core.stats.gnuplot:1077\r\n",
      "INFO:pyage.core.workplace:=========STEP 10=============\r\n",
      "INFO:pyage.core.stats.gnuplot:1082\r\n",
      "INFO:pyage.core.workplace:=========STEP 11=============\r\n",
      "INFO:pyage.core.stats.gnuplot:1082\r\n",
      "INFO:pyage.core.workplace:=========STEP 12=============\r\n",
      "INFO:pyage.core.stats.gnuplot:1085\r\n",
      "INFO:pyage.core.workplace:=========STEP 13=============\r\n",
      "INFO:pyage.core.stats.gnuplot:1085\r\n",
      "INFO:pyage.core.workplace:=========STEP 14=============\r\n",
      "INFO:pyage.core.stats.gnuplot:1085\r\n",
      "INFO:pyage.core.workplace:=========STEP 15=============\r\n",
      "INFO:pyage.core.stats.gnuplot:1085\r\n",
      "INFO:pyage.core.workplace:=========STEP 16=============\r\n",
      "INFO:pyage.core.stats.gnuplot:1085\r\n",
      "INFO:pyage.core.workplace:=========STEP 17=============\r\n",
      "INFO:pyage.core.stats.gnuplot:1085\r\n",
      "INFO:pyage.core.workplace:=========STEP 18=============\r\n",
      "ERROR:root:\r\n",
      "Traceback (most recent call last):\r\n",
      "  File \"pyage/core/migration.py\", line 44, in migrate\r\n",
      "    agent.parent.parent.get_agents()) > 1:\r\n",
      "AttributeError: 'Workplace' object has no attribute 'parent'\r\n",
      "INFO:pyage.core.stats.gnuplot:1085\r\n",
      "INFO:pyage.core.workplace:=========STEP 19=============\r\n",
      "INFO:pyage.core.stats.gnuplot:1085\r\n",
      "INFO:pyage.core.workplace:=========STEP 20=============\r\n",
      "INFO:pyage.core.stats.gnuplot:1085\r\n",
      "INFO:pyage.core.workplace:=========STEP 21=============\r\n",
      "INFO:pyage.core.stats.gnuplot:1085\r\n",
      "INFO:pyage.core.workplace:=========STEP 22=============\r\n",
      "INFO:pyage.core.stats.gnuplot:1085\r\n",
      "INFO:pyage.core.workplace:=========STEP 23=============\r\n",
      "INFO:pyage.core.stats.gnuplot:1085\r\n",
      "INFO:pyage.core.workplace:=========STEP 24=============\r\n",
      "INFO:pyage.core.stats.gnuplot:1086\r\n",
      "INFO:pyage.core.workplace:=========STEP 25=============\r\n",
      "INFO:pyage.core.stats.gnuplot:1086\r\n",
      "INFO:pyage.core.workplace:=========STEP 26=============\r\n",
      "INFO:pyage.core.stats.gnuplot:1092\r\n",
      "INFO:pyage.core.workplace:=========STEP 27=============\r\n",
      "INFO:pyage.core.stats.gnuplot:1094\r\n",
      "INFO:pyage.core.workplace:=========STEP 28=============\r\n",
      "INFO:pyage.core.stats.gnuplot:1094\r\n",
      "INFO:pyage.core.workplace:=========STEP 29=============\r\n",
      "INFO:pyage.core.stats.gnuplot:1094\r\n",
      "INFO:pyage.core.workplace:=========STEP 30=============\r\n",
      "INFO:pyage.core.stats.gnuplot:1094\r\n",
      "INFO:pyage.core.workplace:=========STEP 31=============\r\n",
      "INFO:pyage.core.stats.gnuplot:1094\r\n",
      "INFO:pyage.core.workplace:=========STEP 32=============\r\n",
      "INFO:pyage.core.stats.gnuplot:1094\r\n",
      "INFO:pyage.core.workplace:=========STEP 33=============\r\n",
      "INFO:pyage.core.stats.gnuplot:1094\r\n",
      "INFO:pyage.core.workplace:=========STEP 34=============\r\n",
      "INFO:pyage.core.stats.gnuplot:1094\r\n",
      "INFO:pyage.core.workplace:=========STEP 35=============\r\n",
      "INFO:pyage.core.stats.gnuplot:1094\r\n",
      "INFO:pyage.core.workplace:=========STEP 36=============\r\n",
      "ERROR:root:\r\n",
      "Traceback (most recent call last):\r\n",
      "  File \"pyage/core/migration.py\", line 44, in migrate\r\n",
      "    agent.parent.parent.get_agents()) > 1:\r\n",
      "AttributeError: 'Workplace' object has no attribute 'parent'\r\n",
      "INFO:pyage.core.stats.gnuplot:1094\r\n",
      "INFO:pyage.core.workplace:=========STEP 37=============\r\n",
      "INFO:pyage.core.stats.gnuplot:1094\r\n",
      "INFO:pyage.core.workplace:=========STEP 38=============\r\n",
      "INFO:pyage.core.stats.gnuplot:1094\r\n",
      "INFO:pyage.core.workplace:=========STEP 39=============\r\n",
      "INFO:pyage.core.stats.gnuplot:1094\r\n",
      "INFO:pyage.core.workplace:=========STEP 40=============\r\n",
      "INFO:pyage.core.stats.gnuplot:1094\r\n",
      "INFO:pyage.core.workplace:=========STEP 41=============\r\n",
      "INFO:pyage.core.stats.gnuplot:1094\r\n",
      "INFO:pyage.core.workplace:=========STEP 42=============\r\n",
      "INFO:pyage.core.stats.gnuplot:1094\r\n",
      "INFO:pyage.core.workplace:=========STEP 43=============\r\n",
      "INFO:pyage.core.stats.gnuplot:1094\r\n",
      "INFO:pyage.core.workplace:=========STEP 44=============\r\n",
      "INFO:pyage.core.stats.gnuplot:1094\r\n",
      "INFO:pyage.core.workplace:=========STEP 45=============\r\n",
      "INFO:pyage.core.stats.gnuplot:1094\r\n",
      "INFO:pyage.core.workplace:=========STEP 46=============\r\n",
      "INFO:pyage.core.stats.gnuplot:1094\r\n",
      "INFO:pyage.core.workplace:=========STEP 47=============\r\n",
      "INFO:pyage.core.stats.gnuplot:1094\r\n",
      "INFO:pyage.core.workplace:=========STEP 48=============\r\n",
      "INFO:pyage.core.stats.gnuplot:1094\r\n",
      "INFO:pyage.core.workplace:=========STEP 49=============\r\n",
      "INFO:pyage.core.stats.gnuplot:1094\r\n",
      "INFO:pyage.core.workplace:=========STEP 50=============\r\n",
      "INFO:pyage.core.stats.gnuplot:1094\r\n",
      "INFO:pyage.core.workplace:=========STEP 51=============\r\n",
      "INFO:pyage.core.stats.gnuplot:1094\r\n",
      "INFO:pyage.core.workplace:=========STEP 52=============\r\n",
      "INFO:pyage.core.stats.gnuplot:1094\r\n",
      "INFO:pyage.core.workplace:=========STEP 53=============\r\n",
      "INFO:pyage.core.stats.gnuplot:1094\r\n",
      "INFO:pyage.core.workplace:=========STEP 54=============\r\n",
      "INFO:pyage.core.stats.gnuplot:1094\r\n",
      "INFO:pyage.core.workplace:=========STEP 55=============\r\n",
      "INFO:pyage.core.stats.gnuplot:1094\r\n",
      "INFO:pyage.core.workplace:=========STEP 56=============\r\n",
      "INFO:pyage.core.stats.gnuplot:1094\r\n",
      "INFO:pyage.core.workplace:=========STEP 57=============\r\n",
      "INFO:pyage.core.stats.gnuplot:1094\r\n",
      "INFO:pyage.core.workplace:=========STEP 58=============\r\n",
      "INFO:pyage.core.stats.gnuplot:1094\r\n",
      "INFO:pyage.core.workplace:=========STEP 59=============\r\n",
      "INFO:pyage.core.stats.gnuplot:1094\r\n",
      "INFO:pyage.core.workplace:=========STEP 60=============\r\n",
      "INFO:pyage.core.stats.gnuplot:1094\r\n",
      "INFO:pyage.core.workplace:=========STEP 61=============\r\n",
      "INFO:pyage.core.stats.gnuplot:1094\r\n",
      "INFO:pyage.core.workplace:=========STEP 62=============\r\n",
      "INFO:pyage.core.stats.gnuplot:1094\r\n",
      "INFO:pyage.core.workplace:=========STEP 63=============\r\n",
      "INFO:pyage.core.stats.gnuplot:1094\r\n",
      "INFO:pyage.core.workplace:=========STEP 64=============\r\n",
      "INFO:pyage.core.stats.gnuplot:1094\r\n",
      "INFO:pyage.core.workplace:=========STEP 65=============\r\n",
      "INFO:pyage.core.stats.gnuplot:1094\r\n",
      "INFO:pyage.core.workplace:=========STEP 66=============\r\n",
      "INFO:pyage.core.stats.gnuplot:1094\r\n",
      "INFO:pyage.core.workplace:=========STEP 67=============\r\n",
      "INFO:pyage.core.stats.gnuplot:1094\r\n",
      "INFO:pyage.core.workplace:=========STEP 68=============\r\n",
      "INFO:pyage.core.stats.gnuplot:1094\r\n",
      "INFO:pyage.core.workplace:=========STEP 69=============\r\n",
      "ERROR:root:\r\n",
      "Traceback (most recent call last):\r\n",
      "  File \"pyage/core/migration.py\", line 44, in migrate\r\n",
      "    agent.parent.parent.get_agents()) > 1:\r\n",
      "AttributeError: 'Workplace' object has no attribute 'parent'\r\n",
      "INFO:pyage.core.stats.gnuplot:1094\r\n",
      "INFO:pyage.core.workplace:=========STEP 70=============\r\n",
      "INFO:pyage.core.stats.gnuplot:1094\r\n",
      "INFO:pyage.core.workplace:=========STEP 71=============\r\n",
      "INFO:pyage.core.stats.gnuplot:1096\r\n",
      "INFO:pyage.core.workplace:=========STEP 72=============\r\n",
      "INFO:pyage.core.stats.gnuplot:1101\r\n",
      "INFO:pyage.core.workplace:=========STEP 73=============\r\n",
      "INFO:pyage.core.stats.gnuplot:1103\r\n",
      "INFO:pyage.core.workplace:=========STEP 74=============\r\n",
      "ERROR:root:\r\n",
      "Traceback (most recent call last):\r\n",
      "  File \"pyage/core/migration.py\", line 44, in migrate\r\n",
      "    agent.parent.parent.get_agents()) > 1:\r\n",
      "AttributeError: 'Workplace' object has no attribute 'parent'\r\n",
      "INFO:pyage.core.stats.gnuplot:1103\r\n",
      "INFO:pyage.core.workplace:=========STEP 75=============\r\n",
      "INFO:pyage.core.stats.gnuplot:1103\r\n",
      "INFO:pyage.core.workplace:=========STEP 76=============\r\n",
      "INFO:pyage.core.stats.gnuplot:1103\r\n",
      "INFO:pyage.core.workplace:=========STEP 77=============\r\n",
      "INFO:pyage.core.stats.gnuplot:1103\r\n",
      "INFO:pyage.core.workplace:=========STEP 78=============\r\n",
      "INFO:pyage.core.stats.gnuplot:1103\r\n",
      "INFO:pyage.core.workplace:=========STEP 79=============\r\n",
      "INFO:pyage.core.stats.gnuplot:1103\r\n",
      "INFO:pyage.core.workplace:=========STEP 80=============\r\n",
      "INFO:pyage.core.stats.gnuplot:1103\r\n",
      "INFO:pyage.core.workplace:=========STEP 81=============\r\n",
      "INFO:pyage.core.stats.gnuplot:1103\r\n",
      "INFO:pyage.core.workplace:=========STEP 82=============\r\n",
      "INFO:pyage.core.stats.gnuplot:1103\r\n",
      "INFO:pyage.core.workplace:=========STEP 83=============\r\n",
      "INFO:pyage.core.stats.gnuplot:1103\r\n",
      "INFO:pyage.core.workplace:=========STEP 84=============\r\n",
      "INFO:pyage.core.stats.gnuplot:1103\r\n",
      "INFO:pyage.core.workplace:=========STEP 85=============\r\n",
      "INFO:pyage.core.stats.gnuplot:1103\r\n",
      "INFO:pyage.core.workplace:=========STEP 86=============\r\n",
      "INFO:pyage.core.stats.gnuplot:1103\r\n",
      "INFO:pyage.core.workplace:=========STEP 87=============\r\n",
      "INFO:pyage.core.stats.gnuplot:1103\r\n",
      "INFO:pyage.core.workplace:=========STEP 88=============\r\n",
      "INFO:pyage.core.stats.gnuplot:1103\r\n",
      "INFO:pyage.core.workplace:=========STEP 89=============\r\n",
      "INFO:pyage.core.stats.gnuplot:1103\r\n",
      "INFO:pyage.core.workplace:=========STEP 90=============\r\n",
      "INFO:pyage.core.stats.gnuplot:1103\r\n",
      "INFO:pyage.core.workplace:=========STEP 91=============\r\n",
      "INFO:pyage.core.stats.gnuplot:1103\r\n",
      "INFO:pyage.core.workplace:=========STEP 92=============\r\n",
      "INFO:pyage.core.stats.gnuplot:1103\r\n",
      "INFO:pyage.core.workplace:=========STEP 93=============\r\n",
      "INFO:pyage.core.stats.gnuplot:1103\r\n",
      "INFO:pyage.core.workplace:=========STEP 94=============\r\n",
      "INFO:pyage.core.stats.gnuplot:1103\r\n",
      "INFO:pyage.core.workplace:=========STEP 95=============\r\n",
      "INFO:pyage.core.stats.gnuplot:1103\r\n",
      "INFO:pyage.core.workplace:=========STEP 96=============\r\n",
      "INFO:pyage.core.stats.gnuplot:1103\r\n",
      "INFO:pyage.core.workplace:=========STEP 97=============\r\n",
      "INFO:pyage.core.stats.gnuplot:1103\r\n",
      "INFO:pyage.core.workplace:=========STEP 98=============\r\n",
      "INFO:pyage.core.stats.gnuplot:1103\r\n",
      "INFO:pyage.core.workplace:=========STEP 99=============\r\n",
      "INFO:pyage.core.stats.gnuplot:1103\r\n",
      "INFO:pyage.core.workplace:=========STEP 100=============\r\n",
      "INFO:pyage.core.stats.gnuplot:1103\r\n"
     ]
    }
   ],
   "source": [
    "%cat pyage-20180316_083637.log"
   ]
  },
  {
   "cell_type": "markdown",
   "metadata": {},
   "source": [
    "# as we can see  fitness goes up from 1000 to 1103 i 100 steps where 1135 is max"
   ]
  },
  {
   "cell_type": "code",
   "execution_count": 143,
   "metadata": {},
   "outputs": [
    {
     "name": "stdout",
     "output_type": "stream",
     "text": [
      "0;1000\n",
      "0;1014\n",
      "CPU times: user 808 ms, sys: 100 ms, total: 908 ms\n",
      "Wall time: 44.2 s\n"
     ]
    }
   ],
   "source": [
    "%%time\n",
    "# files change, 100 step, more changeable tournV2, mut 0.3, mut evol 0.3,\n",
    "# worse fac 0.1, tourn 10,10 , cross 100, 2 agents, seed = 0, SIZE = 250\n",
    "!python -m pyage.core.bootstrap pyage.satcnf.conf\n",
    "%cat fitness_pyage.satcnf.conf_pyage.txt"
   ]
  },
  {
   "cell_type": "code",
   "execution_count": 144,
   "metadata": {},
   "outputs": [
    {
     "name": "stdout",
     "output_type": "stream",
     "text": [
      "INFO:pyage.core.workplace:=========STEP 1=============\r\n",
      "INFO:pyage.core.stats.gnuplot:1014\r\n",
      "INFO:pyage.core.workplace:=========STEP 2=============\r\n",
      "INFO:pyage.core.stats.gnuplot:1019\r\n",
      "INFO:pyage.core.workplace:=========STEP 3=============\r\n",
      "INFO:pyage.core.stats.gnuplot:1026\r\n",
      "INFO:pyage.core.workplace:=========STEP 4=============\r\n",
      "ERROR:root:\r\n",
      "Traceback (most recent call last):\r\n",
      "  File \"pyage/core/migration.py\", line 44, in migrate\r\n",
      "    agent.parent.parent.get_agents()) > 1:\r\n",
      "AttributeError: 'Workplace' object has no attribute 'parent'\r\n",
      "INFO:pyage.core.stats.gnuplot:1037\r\n",
      "INFO:pyage.core.workplace:=========STEP 5=============\r\n",
      "INFO:pyage.core.stats.gnuplot:1041\r\n",
      "INFO:pyage.core.workplace:=========STEP 6=============\r\n",
      "INFO:pyage.core.stats.gnuplot:1049\r\n",
      "INFO:pyage.core.workplace:=========STEP 7=============\r\n",
      "INFO:pyage.core.stats.gnuplot:1050\r\n",
      "INFO:pyage.core.workplace:=========STEP 8=============\r\n",
      "INFO:pyage.core.stats.gnuplot:1055\r\n",
      "INFO:pyage.core.workplace:=========STEP 9=============\r\n",
      "INFO:pyage.core.stats.gnuplot:1065\r\n",
      "INFO:pyage.core.workplace:=========STEP 10=============\r\n",
      "INFO:pyage.core.stats.gnuplot:1066\r\n",
      "INFO:pyage.core.workplace:=========STEP 11=============\r\n",
      "INFO:pyage.core.stats.gnuplot:1071\r\n",
      "INFO:pyage.core.workplace:=========STEP 12=============\r\n",
      "INFO:pyage.core.stats.gnuplot:1077\r\n",
      "INFO:pyage.core.workplace:=========STEP 13=============\r\n",
      "INFO:pyage.core.stats.gnuplot:1082\r\n",
      "INFO:pyage.core.workplace:=========STEP 14=============\r\n",
      "INFO:pyage.core.stats.gnuplot:1082\r\n",
      "INFO:pyage.core.workplace:=========STEP 15=============\r\n",
      "INFO:pyage.core.stats.gnuplot:1083\r\n",
      "INFO:pyage.core.workplace:=========STEP 16=============\r\n",
      "ERROR:root:\r\n",
      "Traceback (most recent call last):\r\n",
      "  File \"pyage/core/migration.py\", line 44, in migrate\r\n",
      "    agent.parent.parent.get_agents()) > 1:\r\n",
      "AttributeError: 'Workplace' object has no attribute 'parent'\r\n",
      "INFO:pyage.core.stats.gnuplot:1083\r\n",
      "INFO:pyage.core.workplace:=========STEP 17=============\r\n",
      "INFO:pyage.core.stats.gnuplot:1083\r\n",
      "INFO:pyage.core.workplace:=========STEP 18=============\r\n",
      "INFO:pyage.core.stats.gnuplot:1083\r\n",
      "INFO:pyage.core.workplace:=========STEP 19=============\r\n",
      "INFO:pyage.core.stats.gnuplot:1083\r\n",
      "INFO:pyage.core.workplace:=========STEP 20=============\r\n",
      "ERROR:root:\r\n",
      "Traceback (most recent call last):\r\n",
      "  File \"pyage/core/migration.py\", line 44, in migrate\r\n",
      "    agent.parent.parent.get_agents()) > 1:\r\n",
      "AttributeError: 'Workplace' object has no attribute 'parent'\r\n",
      "INFO:pyage.core.stats.gnuplot:1083\r\n",
      "INFO:pyage.core.workplace:=========STEP 21=============\r\n",
      "INFO:pyage.core.stats.gnuplot:1083\r\n",
      "INFO:pyage.core.workplace:=========STEP 22=============\r\n",
      "INFO:pyage.core.stats.gnuplot:1083\r\n",
      "INFO:pyage.core.workplace:=========STEP 23=============\r\n",
      "INFO:pyage.core.stats.gnuplot:1083\r\n",
      "INFO:pyage.core.workplace:=========STEP 24=============\r\n",
      "INFO:pyage.core.stats.gnuplot:1083\r\n",
      "INFO:pyage.core.workplace:=========STEP 25=============\r\n",
      "INFO:pyage.core.stats.gnuplot:1083\r\n",
      "INFO:pyage.core.workplace:=========STEP 26=============\r\n",
      "INFO:pyage.core.stats.gnuplot:1083\r\n",
      "INFO:pyage.core.workplace:=========STEP 27=============\r\n",
      "INFO:pyage.core.stats.gnuplot:1083\r\n",
      "INFO:pyage.core.workplace:=========STEP 28=============\r\n",
      "INFO:pyage.core.stats.gnuplot:1083\r\n",
      "INFO:pyage.core.workplace:=========STEP 29=============\r\n",
      "INFO:pyage.core.stats.gnuplot:1083\r\n",
      "INFO:pyage.core.workplace:=========STEP 30=============\r\n",
      "INFO:pyage.core.stats.gnuplot:1083\r\n",
      "INFO:pyage.core.workplace:=========STEP 31=============\r\n",
      "INFO:pyage.core.stats.gnuplot:1083\r\n",
      "INFO:pyage.core.workplace:=========STEP 32=============\r\n",
      "INFO:pyage.core.stats.gnuplot:1083\r\n",
      "INFO:pyage.core.workplace:=========STEP 33=============\r\n",
      "INFO:pyage.core.stats.gnuplot:1083\r\n",
      "INFO:pyage.core.workplace:=========STEP 34=============\r\n",
      "INFO:pyage.core.stats.gnuplot:1083\r\n",
      "INFO:pyage.core.workplace:=========STEP 35=============\r\n",
      "INFO:pyage.core.stats.gnuplot:1083\r\n",
      "INFO:pyage.core.workplace:=========STEP 36=============\r\n",
      "ERROR:root:\r\n",
      "Traceback (most recent call last):\r\n",
      "  File \"pyage/core/migration.py\", line 44, in migrate\r\n",
      "    agent.parent.parent.get_agents()) > 1:\r\n",
      "AttributeError: 'Workplace' object has no attribute 'parent'\r\n",
      "INFO:pyage.core.stats.gnuplot:1083\r\n",
      "INFO:pyage.core.workplace:=========STEP 37=============\r\n",
      "INFO:pyage.core.stats.gnuplot:1083\r\n",
      "INFO:pyage.core.workplace:=========STEP 38=============\r\n",
      "INFO:pyage.core.stats.gnuplot:1083\r\n",
      "INFO:pyage.core.workplace:=========STEP 39=============\r\n",
      "INFO:pyage.core.stats.gnuplot:1083\r\n",
      "INFO:pyage.core.workplace:=========STEP 40=============\r\n",
      "INFO:pyage.core.stats.gnuplot:1083\r\n",
      "INFO:pyage.core.workplace:=========STEP 41=============\r\n",
      "INFO:pyage.core.stats.gnuplot:1083\r\n",
      "INFO:pyage.core.workplace:=========STEP 42=============\r\n",
      "ERROR:root:\r\n",
      "Traceback (most recent call last):\r\n",
      "  File \"pyage/core/migration.py\", line 44, in migrate\r\n",
      "    agent.parent.parent.get_agents()) > 1:\r\n",
      "AttributeError: 'Workplace' object has no attribute 'parent'\r\n",
      "INFO:pyage.core.stats.gnuplot:1083\r\n",
      "INFO:pyage.core.workplace:=========STEP 43=============\r\n",
      "INFO:pyage.core.stats.gnuplot:1083\r\n",
      "INFO:pyage.core.workplace:=========STEP 44=============\r\n",
      "INFO:pyage.core.stats.gnuplot:1083\r\n",
      "INFO:pyage.core.workplace:=========STEP 45=============\r\n",
      "INFO:pyage.core.stats.gnuplot:1083\r\n",
      "INFO:pyage.core.workplace:=========STEP 46=============\r\n",
      "INFO:pyage.core.stats.gnuplot:1083\r\n",
      "INFO:pyage.core.workplace:=========STEP 47=============\r\n",
      "INFO:pyage.core.stats.gnuplot:1083\r\n",
      "INFO:pyage.core.workplace:=========STEP 48=============\r\n",
      "INFO:pyage.core.stats.gnuplot:1083\r\n",
      "INFO:pyage.core.workplace:=========STEP 49=============\r\n",
      "INFO:pyage.core.stats.gnuplot:1084\r\n",
      "INFO:pyage.core.workplace:=========STEP 50=============\r\n",
      "INFO:pyage.core.stats.gnuplot:1086\r\n",
      "INFO:pyage.core.workplace:=========STEP 51=============\r\n",
      "INFO:pyage.core.stats.gnuplot:1087\r\n",
      "INFO:pyage.core.workplace:=========STEP 52=============\r\n",
      "INFO:pyage.core.stats.gnuplot:1087\r\n",
      "INFO:pyage.core.workplace:=========STEP 53=============\r\n",
      "INFO:pyage.core.stats.gnuplot:1087\r\n",
      "INFO:pyage.core.workplace:=========STEP 54=============\r\n",
      "INFO:pyage.core.stats.gnuplot:1087\r\n",
      "INFO:pyage.core.workplace:=========STEP 55=============\r\n",
      "INFO:pyage.core.stats.gnuplot:1087\r\n",
      "INFO:pyage.core.workplace:=========STEP 56=============\r\n",
      "INFO:pyage.core.stats.gnuplot:1087\r\n",
      "INFO:pyage.core.workplace:=========STEP 57=============\r\n",
      "INFO:pyage.core.stats.gnuplot:1087\r\n",
      "INFO:pyage.core.workplace:=========STEP 58=============\r\n",
      "INFO:pyage.core.stats.gnuplot:1087\r\n",
      "INFO:pyage.core.workplace:=========STEP 59=============\r\n",
      "INFO:pyage.core.stats.gnuplot:1087\r\n",
      "INFO:pyage.core.workplace:=========STEP 60=============\r\n",
      "INFO:pyage.core.stats.gnuplot:1087\r\n",
      "INFO:pyage.core.workplace:=========STEP 61=============\r\n",
      "ERROR:root:\r\n",
      "Traceback (most recent call last):\r\n",
      "  File \"pyage/core/migration.py\", line 44, in migrate\r\n",
      "    agent.parent.parent.get_agents()) > 1:\r\n",
      "AttributeError: 'Workplace' object has no attribute 'parent'\r\n",
      "INFO:pyage.core.stats.gnuplot:1087\r\n",
      "INFO:pyage.core.workplace:=========STEP 62=============\r\n",
      "INFO:pyage.core.stats.gnuplot:1087\r\n",
      "INFO:pyage.core.workplace:=========STEP 63=============\r\n",
      "INFO:pyage.core.stats.gnuplot:1087\r\n",
      "INFO:pyage.core.workplace:=========STEP 64=============\r\n",
      "INFO:pyage.core.stats.gnuplot:1087\r\n",
      "INFO:pyage.core.workplace:=========STEP 65=============\r\n",
      "INFO:pyage.core.stats.gnuplot:1087\r\n",
      "INFO:pyage.core.workplace:=========STEP 66=============\r\n",
      "INFO:pyage.core.stats.gnuplot:1087\r\n",
      "INFO:pyage.core.workplace:=========STEP 67=============\r\n",
      "INFO:pyage.core.stats.gnuplot:1087\r\n",
      "INFO:pyage.core.workplace:=========STEP 68=============\r\n",
      "INFO:pyage.core.stats.gnuplot:1087\r\n",
      "INFO:pyage.core.workplace:=========STEP 69=============\r\n",
      "INFO:pyage.core.stats.gnuplot:1087\r\n",
      "INFO:pyage.core.workplace:=========STEP 70=============\r\n",
      "ERROR:root:\r\n",
      "Traceback (most recent call last):\r\n",
      "  File \"pyage/core/migration.py\", line 44, in migrate\r\n",
      "    agent.parent.parent.get_agents()) > 1:\r\n",
      "AttributeError: 'Workplace' object has no attribute 'parent'\r\n",
      "INFO:pyage.core.stats.gnuplot:1087\r\n",
      "INFO:pyage.core.workplace:=========STEP 71=============\r\n",
      "INFO:pyage.core.stats.gnuplot:1087\r\n",
      "INFO:pyage.core.workplace:=========STEP 72=============\r\n",
      "ERROR:root:\r\n",
      "Traceback (most recent call last):\r\n",
      "  File \"pyage/core/migration.py\", line 44, in migrate\r\n",
      "    agent.parent.parent.get_agents()) > 1:\r\n",
      "AttributeError: 'Workplace' object has no attribute 'parent'\r\n",
      "INFO:pyage.core.stats.gnuplot:1087\r\n",
      "INFO:pyage.core.workplace:=========STEP 73=============\r\n",
      "INFO:pyage.core.stats.gnuplot:1087\r\n",
      "INFO:pyage.core.workplace:=========STEP 74=============\r\n",
      "INFO:pyage.core.stats.gnuplot:1087\r\n",
      "INFO:pyage.core.workplace:=========STEP 75=============\r\n",
      "INFO:pyage.core.stats.gnuplot:1087\r\n",
      "INFO:pyage.core.workplace:=========STEP 76=============\r\n",
      "INFO:pyage.core.stats.gnuplot:1087\r\n",
      "INFO:pyage.core.workplace:=========STEP 77=============\r\n",
      "ERROR:root:\r\n",
      "Traceback (most recent call last):\r\n",
      "  File \"pyage/core/migration.py\", line 44, in migrate\r\n",
      "    agent.parent.parent.get_agents()) > 1:\r\n",
      "AttributeError: 'Workplace' object has no attribute 'parent'\r\n",
      "INFO:pyage.core.stats.gnuplot:1087\r\n",
      "INFO:pyage.core.workplace:=========STEP 78=============\r\n",
      "INFO:pyage.core.stats.gnuplot:1087\r\n",
      "INFO:pyage.core.workplace:=========STEP 79=============\r\n",
      "INFO:pyage.core.stats.gnuplot:1087\r\n",
      "INFO:pyage.core.workplace:=========STEP 80=============\r\n",
      "INFO:pyage.core.stats.gnuplot:1087\r\n",
      "INFO:pyage.core.workplace:=========STEP 81=============\r\n",
      "INFO:pyage.core.stats.gnuplot:1087\r\n",
      "INFO:pyage.core.workplace:=========STEP 82=============\r\n",
      "INFO:pyage.core.stats.gnuplot:1087\r\n",
      "INFO:pyage.core.workplace:=========STEP 83=============\r\n",
      "INFO:pyage.core.stats.gnuplot:1087\r\n",
      "INFO:pyage.core.workplace:=========STEP 84=============\r\n",
      "INFO:pyage.core.stats.gnuplot:1087\r\n",
      "INFO:pyage.core.workplace:=========STEP 85=============\r\n",
      "INFO:pyage.core.stats.gnuplot:1087\r\n",
      "INFO:pyage.core.workplace:=========STEP 86=============\r\n",
      "INFO:pyage.core.stats.gnuplot:1087\r\n",
      "INFO:pyage.core.workplace:=========STEP 87=============\r\n",
      "INFO:pyage.core.stats.gnuplot:1087\r\n",
      "INFO:pyage.core.workplace:=========STEP 88=============\r\n",
      "INFO:pyage.core.stats.gnuplot:1087\r\n",
      "INFO:pyage.core.workplace:=========STEP 89=============\r\n",
      "INFO:pyage.core.stats.gnuplot:1087\r\n",
      "INFO:pyage.core.workplace:=========STEP 90=============\r\n",
      "INFO:pyage.core.stats.gnuplot:1087\r\n",
      "INFO:pyage.core.workplace:=========STEP 91=============\r\n",
      "INFO:pyage.core.stats.gnuplot:1087\r\n",
      "INFO:pyage.core.workplace:=========STEP 92=============\r\n",
      "INFO:pyage.core.stats.gnuplot:1087\r\n",
      "INFO:pyage.core.workplace:=========STEP 93=============\r\n",
      "INFO:pyage.core.stats.gnuplot:1087\r\n",
      "INFO:pyage.core.workplace:=========STEP 94=============\r\n",
      "INFO:pyage.core.stats.gnuplot:1087\r\n",
      "INFO:pyage.core.workplace:=========STEP 95=============\r\n",
      "INFO:pyage.core.stats.gnuplot:1087\r\n",
      "INFO:pyage.core.workplace:=========STEP 96=============\r\n",
      "INFO:pyage.core.stats.gnuplot:1087\r\n",
      "INFO:pyage.core.workplace:=========STEP 97=============\r\n",
      "INFO:pyage.core.stats.gnuplot:1087\r\n",
      "INFO:pyage.core.workplace:=========STEP 98=============\r\n",
      "INFO:pyage.core.stats.gnuplot:1087\r\n",
      "INFO:pyage.core.workplace:=========STEP 99=============\r\n",
      "ERROR:root:\r\n",
      "Traceback (most recent call last):\r\n",
      "  File \"pyage/core/migration.py\", line 44, in migrate\r\n",
      "    agent.parent.parent.get_agents()) > 1:\r\n",
      "AttributeError: 'Workplace' object has no attribute 'parent'\r\n",
      "INFO:pyage.core.stats.gnuplot:1087\r\n",
      "INFO:pyage.core.workplace:=========STEP 100=============\r\n",
      "INFO:pyage.core.stats.gnuplot:1087\r\n"
     ]
    }
   ],
   "source": [
    "%cat pyage-20180316_084113.log"
   ]
  },
  {
   "cell_type": "markdown",
   "metadata": {},
   "source": [
    "# now with increased mutation rate we converge to lower value"
   ]
  },
  {
   "cell_type": "code",
   "execution_count": 146,
   "metadata": {},
   "outputs": [
    {
     "name": "stdout",
     "output_type": "stream",
     "text": [
      "0;1000\n",
      "0;1014\n",
      "0;998\n",
      "0;1004\n",
      "100;1087\n",
      "CPU times: user 508 ms, sys: 68 ms, total: 576 ms\n",
      "Wall time: 26.9 s\n"
     ]
    }
   ],
   "source": [
    "%%time\n",
    "# lets try more aggressive change but rarer\n",
    "# files change, 100 step, more changeable tournV2, mut 0.7, mut evol 0.1,\n",
    "# worse fac 0.1, tourn 10,10 , cross 80, 2 agents, seed = 0, SIZE = 250\n",
    "!python -m pyage.core.bootstrap pyage.satcnf.conf\n",
    "%cat fitness_pyage.satcnf.conf_pyage.txt"
   ]
  },
  {
   "cell_type": "code",
   "execution_count": 240,
   "metadata": {},
   "outputs": [],
   "source": [
    "plot_data=pd.read_csv(\"pyage-20180316_084517.log\",sep=\":\",header=None,index_col=0)\n",
    "plot_data=plot_data.dropna()\n",
    "step_col=plot_data.loc[::2][2]\n",
    "val_col=plot_data[1:][::2][2]\n",
    "plot_data=pd.DataFrame()\n",
    "plot_data[\"steps\"]=step_col\n",
    "plot_data[\"values\"]=val_col\n",
    "plot_data['steps'] = plot_data['steps'].apply(lambda value: value.replace(\"=\",\"\"))\n",
    "plot_data.index=plot_data['steps']\n",
    "plot_data.drop('steps', axis=1, inplace=True)"
   ]
  },
  {
   "cell_type": "code",
   "execution_count": 241,
   "metadata": {},
   "outputs": [],
   "source": [
    "plot_data1=plot_data"
   ]
  },
  {
   "cell_type": "code",
   "execution_count": 242,
   "metadata": {},
   "outputs": [],
   "source": [
    "plot_data=pd.read_csv(\"pyage-20180316_084343.log\",sep=\":\",header=None,index_col=0)\n",
    "plot_data=plot_data.dropna()\n",
    "step_col=plot_data.loc[::2][2]\n",
    "val_col=plot_data[1:][::2][2]\n",
    "plot_data=pd.DataFrame()\n",
    "plot_data[\"steps\"]=step_col\n",
    "plot_data[\"values\"]=val_col\n",
    "plot_data['steps'] = plot_data['steps'].apply(lambda value: value.replace(\"=\",\"\"))\n",
    "plot_data.index=plot_data['steps']\n",
    "plot_data.drop('steps', axis=1, inplace=True)"
   ]
  },
  {
   "cell_type": "code",
   "execution_count": 243,
   "metadata": {},
   "outputs": [],
   "source": [
    "plot_data2=plot_data"
   ]
  },
  {
   "cell_type": "code",
   "execution_count": 260,
   "metadata": {},
   "outputs": [],
   "source": [
    "plot_data=pd.read_csv(\"pyage-20180316_083637.log\",sep=\":\",header=None,index_col=0)\n",
    "plot_data=plot_data.dropna()\n",
    "step_col=plot_data.loc[::2][2]\n",
    "val_col=plot_data[1:][::2][2]\n",
    "plot_data=pd.DataFrame()\n",
    "plot_data[\"steps\"]=step_col\n",
    "plot_data[\"values\"]=val_col\n",
    "plot_data['steps'] = plot_data['steps'].apply(lambda value: value.replace(\"=\",\"\"))\n",
    "plot_data.index=plot_data['steps']\n",
    "plot_data.drop('steps', axis=1, inplace=True)"
   ]
  },
  {
   "cell_type": "code",
   "execution_count": 261,
   "metadata": {},
   "outputs": [],
   "source": [
    "plot_data3=plot_data"
   ]
  },
  {
   "cell_type": "code",
   "execution_count": 252,
   "metadata": {},
   "outputs": [
    {
     "data": {
      "text/plain": [
       "<matplotlib.axes._subplots.AxesSubplot at 0x7f0315b63190>"
      ]
     },
     "execution_count": 252,
     "metadata": {},
     "output_type": "execute_result"
    },
    {
     "data": {
      "image/png": "[encoded data removed]",
      "text/plain": [
       "<Figure size 432x288 with 1 Axes>"
      ]
     },
     "metadata": {},
     "output_type": "display_data"
    }
   ],
   "source": [
    "ax=plt.gca(title=\"Satcnf - 155 var - 1135 clauses - 250 size initialized\")\n",
    "plot_data1=plot_data1.astype(float)\n",
    "plot_data1.columns=[\"mut 0.7, mut evol 0.1, cross 80\"]\n",
    "plot_data1.plot(ax=ax)\n",
    "plot_data2=plot_data2.astype(float)\n",
    "plot_data2.columns=[\"mut 0.3, mut evol 0.3, cross 80\"]\n",
    "plot_data2.plot(ax=ax)\n",
    "plot_data3=plot_data3.astype(float)\n",
    "plot_data3.columns=[\"mut 0.1, mut evol 0.1, cross 100\"]\n",
    "plot_data3.plot(ax=ax)"
   ]
  },
  {
   "cell_type": "markdown",
   "metadata": {},
   "source": [
    "# increasing mutation to 0.7 made it very volatile, and 0.1 made it quite stable"
   ]
  },
  {
   "cell_type": "code",
   "execution_count": 253,
   "metadata": {},
   "outputs": [
    {
     "name": "stdout",
     "output_type": "stream",
     "text": [
      "0;1000\n",
      "0;1014\n",
      "0;998\n",
      "0;1004\n",
      "100;1087\n",
      "0;1014\n",
      "100;1056\n",
      "CPU times: user 548 ms, sys: 44 ms, total: 592 ms\n",
      "Wall time: 27.9 s\n"
     ]
    }
   ],
   "source": [
    "%%time\n",
    "# lets try more aggressive change but rarer\n",
    "# files change, 100 step, more changeable tournV2, mut 0.7, mut evol 0.1,\n",
    "# worse fac 0.1, tourn 10,30 , cross 80, 2 agents, seed = 0, SIZE = 250\n",
    "!python -m pyage.core.bootstrap pyage.satcnf.conf\n",
    "%cat fitness_pyage.satcnf.conf_pyage.txt"
   ]
  },
  {
   "cell_type": "code",
   "execution_count": 267,
   "metadata": {},
   "outputs": [],
   "source": [
    "plot_data=pd.read_csv(\"pyage-20180316_092325.log\",sep=\":\",header=None,index_col=0)\n",
    "plot_data=plot_data.dropna()\n",
    "step_col=plot_data.loc[::2][2]\n",
    "val_col=plot_data[1:][::2][2]\n",
    "plot_data=pd.DataFrame()\n",
    "plot_data[\"steps\"]=step_col\n",
    "plot_data[\"values\"]=val_col\n",
    "plot_data['steps'] = plot_data['steps'].apply(lambda value: value.replace(\"=\",\"\"))\n",
    "plot_data.index=plot_data['steps']\n",
    "plot_data.drop('steps', axis=1, inplace=True)"
   ]
  },
  {
   "cell_type": "code",
   "execution_count": 268,
   "metadata": {},
   "outputs": [],
   "source": [
    "plot_data4=plot_data"
   ]
  },
  {
   "cell_type": "code",
   "execution_count": 269,
   "metadata": {},
   "outputs": [
    {
     "data": {
      "text/plain": [
       "<matplotlib.axes._subplots.AxesSubplot at 0x7f03158aebd0>"
      ]
     },
     "execution_count": 269,
     "metadata": {},
     "output_type": "execute_result"
    },
    {
     "data": {
      "image/png": "[encoded data removed]",
      "text/plain": [
       "<Figure size 432x288 with 1 Axes>"
      ]
     },
     "metadata": {},
     "output_type": "display_data"
    }
   ],
   "source": [
    "ax=plt.gca(title=\"Satcnf - 155 var - 1135 clauses - 250 size initialized\")\n",
    "plot_data1=plot_data1.astype(float)\n",
    "plot_data1.columns=[\"mut 0.7, mut evol 0.1, cross 80\"]\n",
    "plot_data1.plot(ax=ax)\n",
    "plot_data2=plot_data2.astype(float)\n",
    "plot_data2.columns=[\"mut 0.3, mut evol 0.3, cross 80\"]\n",
    "plot_data2.plot(ax=ax)\n",
    "plot_data3=plot_data3.astype(float)\n",
    "plot_data3.columns=[\"mut 0.1, mut evol 0.1, cross 100\"]\n",
    "plot_data3.plot(ax=ax)\n",
    "\n",
    "plot_data4=plot_data4.astype(float)\n",
    "plot_data4.columns=[\"mut 0.7, mut evol 0.1, cross 80, turn 10,10->30\"]\n",
    "plot_data4.plot(ax=ax)"
   ]
  },
  {
   "cell_type": "code",
   "execution_count": 270,
   "metadata": {},
   "outputs": [
    {
     "name": "stdout",
     "output_type": "stream",
     "text": [
      "0;1000\n",
      "0;1014\n",
      "0;998\n",
      "0;1004\n",
      "100;1087\n",
      "0;1014\n",
      "100;1056\n",
      "0;1000\n",
      "100;1093\n",
      "CPU times: user 656 ms, sys: 120 ms, total: 776 ms\n",
      "Wall time: 36.1 s\n"
     ]
    }
   ],
   "source": [
    "%%time\n",
    "# lets try more aggressive change but rarer\n",
    "# files change, 100 step, more changeable tournV2, mut 0.2, mut evol 0.75,\n",
    "# worse fac 0.1, tourn 10,30 , cross 80, 2 agents, seed = 0, SIZE = 250\n",
    "!python -m pyage.core.bootstrap pyage.satcnf.conf\n",
    "%cat fitness_pyage.satcnf.conf_pyage.txt"
   ]
  },
  {
   "cell_type": "code",
   "execution_count": 272,
   "metadata": {},
   "outputs": [],
   "source": [
    "plot_data=pd.read_csv(\"pyage-20180316_092639.log\",sep=\":\",header=None,index_col=0)\n",
    "plot_data=plot_data.dropna()\n",
    "step_col=plot_data.loc[::2][2]\n",
    "val_col=plot_data[1:][::2][2]\n",
    "plot_data=pd.DataFrame()\n",
    "plot_data[\"steps\"]=step_col\n",
    "plot_data[\"values\"]=val_col\n",
    "plot_data['steps'] = plot_data['steps'].apply(lambda value: value.replace(\"=\",\"\"))\n",
    "plot_data.index=plot_data['steps']\n",
    "plot_data.drop('steps', axis=1, inplace=True)\n",
    "plot_data5=plot_data"
   ]
  },
  {
   "cell_type": "code",
   "execution_count": 273,
   "metadata": {},
   "outputs": [
    {
     "data": {
      "text/plain": [
       "<matplotlib.axes._subplots.AxesSubplot at 0x7f03158d7410>"
      ]
     },
     "execution_count": 273,
     "metadata": {},
     "output_type": "execute_result"
    },
    {
     "data": {
      "image/png": "[encoded data removed]",
      "text/plain": [
       "<Figure size 432x288 with 1 Axes>"
      ]
     },
     "metadata": {},
     "output_type": "display_data"
    }
   ],
   "source": [
    "ax=plt.gca(title=\"Satcnf - 155 var - 1135 clauses - 250 size initialized\")\n",
    "plot_data1=plot_data1.astype(float)\n",
    "plot_data1.columns=[\"mut 0.7, mut evol 0.1, cross 80\"]\n",
    "plot_data1.plot(ax=ax)\n",
    "plot_data2=plot_data2.astype(float)\n",
    "plot_data2.columns=[\"mut 0.3, mut evol 0.3, cross 80\"]\n",
    "plot_data2.plot(ax=ax)\n",
    "plot_data3=plot_data3.astype(float)\n",
    "plot_data3.columns=[\"mut 0.1, mut evol 0.1, cross 100\"]\n",
    "plot_data3.plot(ax=ax)\n",
    "\n",
    "plot_data4=plot_data4.astype(float)\n",
    "plot_data4.columns=[\"mut 0.7, mut evol 0.1, cross 80, turn 10,10->30\"]\n",
    "plot_data4.plot(ax=ax)\n",
    "\n",
    "plot_data5=plot_data5.astype(float)\n",
    "plot_data5.columns=[\"mut 0.2, mut evol 0.75, cross 80, turn 10,10->30\"]\n",
    "plot_data5.plot(ax=ax)"
   ]
  },
  {
   "cell_type": "markdown",
   "metadata": {},
   "source": [
    "# increasing turnament_size in selection didn't made as big change as mutation first argument"
   ]
  },
  {
   "cell_type": "code",
   "execution_count": 274,
   "metadata": {},
   "outputs": [
    {
     "name": "stdout",
     "output_type": "stream",
     "text": [
      "0;1000\n",
      "0;1014\n",
      "0;998\n",
      "0;1004\n",
      "100;1087\n",
      "0;1014\n",
      "100;1056\n",
      "0;1000\n",
      "100;1093\n",
      "0;1014\n",
      "100;1115\n",
      "CPU times: user 652 ms, sys: 84 ms, total: 736 ms\n",
      "Wall time: 34.4 s\n"
     ]
    }
   ],
   "source": [
    "%%time\n",
    "# lets try more aggressive change but rarer\n",
    "# files change, 100 step, more changeable tournV2, mut 0.05, mut evol 0.5,\n",
    "# worse fac 0.1, tourn 10,30 , cross 80, 2 agents, seed = 0, SIZE = 250\n",
    "!python -m pyage.core.bootstrap pyage.satcnf.conf\n",
    "%cat fitness_pyage.satcnf.conf_pyage.txt"
   ]
  },
  {
   "cell_type": "code",
   "execution_count": 275,
   "metadata": {},
   "outputs": [],
   "source": [
    "plot_data=pd.read_csv(\"pyage-20180316_092948.log\",sep=\":\",header=None,index_col=0)\n",
    "plot_data=plot_data.dropna()\n",
    "step_col=plot_data.loc[::2][2]\n",
    "val_col=plot_data[1:][::2][2]\n",
    "plot_data=pd.DataFrame()\n",
    "plot_data[\"steps\"]=step_col\n",
    "plot_data[\"values\"]=val_col\n",
    "plot_data['steps'] = plot_data['steps'].apply(lambda value: value.replace(\"=\",\"\"))\n",
    "plot_data.index=plot_data['steps']\n",
    "plot_data.drop('steps', axis=1, inplace=True)\n",
    "plot_data6=plot_data"
   ]
  },
  {
   "cell_type": "code",
   "execution_count": 276,
   "metadata": {},
   "outputs": [
    {
     "data": {
      "text/plain": [
       "<matplotlib.axes._subplots.AxesSubplot at 0x7f0315ac9b50>"
      ]
     },
     "execution_count": 276,
     "metadata": {},
     "output_type": "execute_result"
    },
    {
     "data": {
      "image/png": "[encoded data removed]",
      "text/plain": [
       "<Figure size 432x288 with 1 Axes>"
      ]
     },
     "metadata": {},
     "output_type": "display_data"
    }
   ],
   "source": [
    "ax=plt.gca(title=\"Satcnf - 155 var - 1135 clauses - 250 size initialized\")\n",
    "plot_data1=plot_data1.astype(float)\n",
    "plot_data1.columns=[\"mut 0.7, mut evol 0.1, cross 80\"]\n",
    "plot_data1.plot(ax=ax)\n",
    "plot_data2=plot_data2.astype(float)\n",
    "plot_data2.columns=[\"mut 0.3, mut evol 0.3, cross 80\"]\n",
    "plot_data2.plot(ax=ax)\n",
    "plot_data3=plot_data3.astype(float)\n",
    "plot_data3.columns=[\"mut 0.1, mut evol 0.1, cross 100\"]\n",
    "plot_data3.plot(ax=ax)\n",
    "\n",
    "plot_data4=plot_data4.astype(float)\n",
    "plot_data4.columns=[\"mut 0.7, mut evol 0.1, cross 80, turn 10,10->30\"]\n",
    "plot_data4.plot(ax=ax)\n",
    "\n",
    "plot_data5=plot_data5.astype(float)\n",
    "plot_data5.columns=[\"mut 0.2, mut evol 0.75, cross 80, turn 10,10->30\"]\n",
    "plot_data5.plot(ax=ax)\n",
    "\n",
    "plot_data6=plot_data6.astype(float)\n",
    "plot_data6.columns=[\"mut 0.05, mut evol 0.5, cross 80, turn 10,10->30\"]\n",
    "plot_data6.plot(ax=ax)"
   ]
  },
  {
   "cell_type": "markdown",
   "metadata": {},
   "source": [
    "# lowering mutation furthermore increased speed even more lets try eliminating it to 0%"
   ]
  },
  {
   "cell_type": "code",
   "execution_count": 277,
   "metadata": {},
   "outputs": [
    {
     "name": "stdout",
     "output_type": "stream",
     "text": [
      "0;1000\n",
      "0;1014\n",
      "0;998\n",
      "0;1004\n",
      "100;1087\n",
      "0;1014\n",
      "100;1056\n",
      "0;1000\n",
      "100;1093\n",
      "0;1014\n",
      "100;1115\n",
      "0;1014\n",
      "100;1081\n",
      "CPU times: user 796 ms, sys: 76 ms, total: 872 ms\n",
      "Wall time: 41.3 s\n"
     ]
    }
   ],
   "source": [
    "%%time\n",
    "# lets try more aggressive change but rarer\n",
    "# files change, 100 step, more changeable tournV2, mut 0, mut evol 0,\n",
    "# worse fac 0.1, tourn 10,30 , cross 80, 2 agents, seed = 0, SIZE = 250\n",
    "!python -m pyage.core.bootstrap pyage.satcnf.conf\n",
    "%cat fitness_pyage.satcnf.conf_pyage.txt"
   ]
  },
  {
   "cell_type": "code",
   "execution_count": 280,
   "metadata": {},
   "outputs": [],
   "source": [
    "plot_data=pd.read_csv(\"pyage-20180316_093223.log\",sep=\":\",header=None,index_col=0)\n",
    "plot_data=plot_data.dropna()\n",
    "step_col=plot_data.loc[::2][2]\n",
    "val_col=plot_data[1:][::2][2]\n",
    "plot_data=pd.DataFrame()\n",
    "plot_data[\"steps\"]=step_col\n",
    "plot_data[\"values\"]=val_col\n",
    "plot_data['steps'] = plot_data['steps'].apply(lambda value: value.replace(\"=\",\"\"))\n",
    "plot_data.index=plot_data['steps']\n",
    "plot_data.drop('steps', axis=1, inplace=True)\n",
    "plot_data7=plot_data"
   ]
  },
  {
   "cell_type": "code",
   "execution_count": 282,
   "metadata": {},
   "outputs": [
    {
     "data": {
      "text/plain": [
       "<matplotlib.axes._subplots.AxesSubplot at 0x7f0315b57710>"
      ]
     },
     "execution_count": 282,
     "metadata": {},
     "output_type": "execute_result"
    },
    {
     "data": {
      "image/png": "[encoded data removed]",
      "text/plain": [
       "<Figure size 432x288 with 1 Axes>"
      ]
     },
     "metadata": {},
     "output_type": "display_data"
    }
   ],
   "source": [
    "ax=plt.gca(title=\"Satcnf - 155 var - 1135 clauses - 250 size initialized\")\n",
    "plot_data1=plot_data1.astype(float)\n",
    "plot_data1.columns=[\"mut 0.7, mut evol 0.1, cross 80\"]\n",
    "plot_data1.plot(ax=ax)\n",
    "plot_data2=plot_data2.astype(float)\n",
    "plot_data2.columns=[\"mut 0.3, mut evol 0.3, cross 80\"]\n",
    "plot_data2.plot(ax=ax)\n",
    "plot_data3=plot_data3.astype(float)\n",
    "plot_data3.columns=[\"mut 0.1, mut evol 0.1, cross 100\"]\n",
    "plot_data3.plot(ax=ax)\n",
    "\n",
    "plot_data4=plot_data4.astype(float)\n",
    "plot_data4.columns=[\"mut 0.7, mut evol 0.1, cross 80, turn 10,30\"]\n",
    "plot_data4.plot(ax=ax)\n",
    "\n",
    "plot_data5=plot_data5.astype(float)\n",
    "plot_data5.columns=[\"mut 0.2, mut evol 0.75, cross 80, turn 10,30\"]\n",
    "plot_data5.plot(ax=ax)\n",
    "\n",
    "plot_data6=plot_data6.astype(float)\n",
    "plot_data6.columns=[\"mut 0.05, mut evol 0.5, cross 80, turn 10,10->30\"]\n",
    "plot_data6.plot(ax=ax)\n",
    "\n",
    "plot_data7=plot_data7.astype(float)\n",
    "plot_data7.columns=[\"mut 0, cross 80, turn 10,30\"]\n",
    "plot_data7.plot(ax=ax)"
   ]
  },
  {
   "cell_type": "markdown",
   "metadata": {},
   "source": [
    "# we can see that eliminating mutation completly makes wall that can't be jumped"
   ]
  },
  {
   "cell_type": "markdown",
   "metadata": {},
   "source": [
    "# lets try to manipulate diffrent params"
   ]
  },
  {
   "cell_type": "code",
   "execution_count": 284,
   "metadata": {},
   "outputs": [
    {
     "name": "stdout",
     "output_type": "stream",
     "text": [
      "0;1000\n",
      "0;1014\n",
      "0;998\n",
      "0;1004\n",
      "100;1087\n",
      "0;1014\n",
      "100;1056\n",
      "0;1000\n",
      "100;1093\n",
      "0;1014\n",
      "100;1115\n",
      "0;1014\n",
      "100;1081\n",
      "0;1014\n",
      "100;1120\n",
      "200;1120\n",
      "CPU times: user 1.28 s, sys: 140 ms, total: 1.42 s\n",
      "Wall time: 1min 8s\n"
     ]
    }
   ],
   "source": [
    "%%time\n",
    "# lets try more aggressive change but rarer\n",
    "# files change, 201 steps,  mut 0.05, mut evol 0.5,\n",
    "# worse fac 0.1, tourn 30,60 , cross 80, 2 agents, seed = 0, SIZE = 250\n",
    "!python -m pyage.core.bootstrap pyage.satcnf.conf\n",
    "%cat fitness_pyage.satcnf.conf_pyage.txt"
   ]
  },
  {
   "cell_type": "code",
   "execution_count": 285,
   "metadata": {},
   "outputs": [],
   "source": [
    "plot_data=pd.read_csv(\"pyage-20180316_093721.log\",sep=\":\",header=None,index_col=0)\n",
    "plot_data=plot_data.dropna()\n",
    "step_col=plot_data.loc[::2][2]\n",
    "val_col=plot_data[1:][::2][2]\n",
    "plot_data=pd.DataFrame()\n",
    "plot_data[\"steps\"]=step_col\n",
    "plot_data[\"values\"]=val_col\n",
    "plot_data['steps'] = plot_data['steps'].apply(lambda value: value.replace(\"=\",\"\"))\n",
    "plot_data.index=plot_data['steps']\n",
    "plot_data.drop('steps', axis=1, inplace=True)\n",
    "plot_data8=plot_data"
   ]
  },
  {
   "cell_type": "code",
   "execution_count": 286,
   "metadata": {},
   "outputs": [
    {
     "data": {
      "text/plain": [
       "<matplotlib.axes._subplots.AxesSubplot at 0x7f0315d64e50>"
      ]
     },
     "execution_count": 286,
     "metadata": {},
     "output_type": "execute_result"
    },
    {
     "data": {
      "image/png": "[encoded data removed]",
      "text/plain": [
       "<Figure size 432x288 with 1 Axes>"
      ]
     },
     "metadata": {},
     "output_type": "display_data"
    }
   ],
   "source": [
    "ax=plt.gca(title=\"Satcnf - 155 var - 1135 clauses - 250 size initialized\")\n",
    "\n",
    "plot_data2=plot_data2.astype(float)\n",
    "plot_data2.columns=[\"mut 0.3, mut evol 0.3, cross 80\"]\n",
    "plot_data2.plot(ax=ax)\n",
    "\n",
    "plot_data5=plot_data5.astype(float)\n",
    "plot_data5.columns=[\"mut 0.2, mut evol 0.75, cross 80, turn 10,30\"]\n",
    "plot_data5.plot(ax=ax)\n",
    "\n",
    "plot_data6=plot_data6.astype(float)\n",
    "plot_data6.columns=[\"mut 0.05, mut evol 0.5, cross 80, turn 10,10->30\"]\n",
    "plot_data6.plot(ax=ax)\n",
    "\n",
    "plot_data8=plot_data8.astype(float)\n",
    "plot_data8.columns=[\"mut 0, cross 80, turn 10,30\"]\n",
    "plot_data8.plot(ax=ax)"
   ]
  },
  {
   "cell_type": "markdown",
   "metadata": {},
   "source": [
    "# our function seems good but as we approach maximum fitness its hard to get closer"
   ]
  },
  {
   "cell_type": "code",
   "execution_count": 295,
   "metadata": {
    "scrolled": false
   },
   "outputs": [
    {
     "name": "stdout",
     "output_type": "stream",
     "text": [
      "0;1000\n",
      "0;1014\n",
      "0;998\n",
      "0;1004\n",
      "100;1087\n",
      "0;1014\n",
      "100;1056\n",
      "0;1000\n",
      "100;1093\n",
      "0;1014\n",
      "100;1115\n",
      "0;1014\n",
      "100;1081\n",
      "0;1014\n",
      "100;1120\n",
      "200;1120\n",
      "0;1014\n",
      "0;1014\n",
      "0;1014\n",
      "0;1014\n",
      "0;1014\n",
      "0;1014\n",
      "0;1014\n",
      "0;1014\n",
      "100;1117\n",
      "200;1122\n",
      "CPU times: user 1.22 s, sys: 124 ms, total: 1.34 s\n",
      "Wall time: 1min 5s\n"
     ]
    }
   ],
   "source": [
    "%%time\n",
    "# lets use tourn V1 with deleted removing winner\n",
    "# files change, 201 steps,  mut 0.05, mut evol 0.5,\n",
    "# worse fac 0.1, tournV1 30,60 , cross 80, 2 agents, seed = 0, SIZE = 250\n",
    "!python -m pyage.core.bootstrap pyage.satcnf.conf\n",
    "%cat fitness_pyage.satcnf.conf_pyage.txt"
   ]
  },
  {
   "cell_type": "code",
   "execution_count": 297,
   "metadata": {},
   "outputs": [],
   "source": [
    "plot_data=pd.read_csv(\"pyage-20180316_095155.log\",sep=\":\",header=None,index_col=0)\n",
    "plot_data=plot_data.dropna()\n",
    "step_col=plot_data.loc[::2][2]\n",
    "val_col=plot_data[1:][::2][2]\n",
    "plot_data=pd.DataFrame()\n",
    "plot_data[\"steps\"]=step_col\n",
    "plot_data[\"values\"]=val_col\n",
    "plot_data['steps'] = plot_data['steps'].apply(lambda value: value.replace(\"=\",\"\"))\n",
    "plot_data.index=plot_data['steps']\n",
    "plot_data.drop('steps', axis=1, inplace=True)\n",
    "plot_data9=plot_data"
   ]
  },
  {
   "cell_type": "code",
   "execution_count": 298,
   "metadata": {},
   "outputs": [
    {
     "name": "stdout",
     "output_type": "stream",
     "text": [
      "0;1000\n",
      "0;1014\n",
      "0;998\n",
      "0;1004\n",
      "100;1087\n",
      "0;1014\n",
      "100;1056\n",
      "0;1000\n",
      "100;1093\n",
      "0;1014\n",
      "100;1115\n",
      "0;1014\n",
      "100;1081\n",
      "0;1014\n",
      "100;1120\n",
      "200;1120\n",
      "0;1014\n",
      "0;1014\n",
      "0;1014\n",
      "0;1014\n",
      "0;1014\n",
      "0;1014\n",
      "0;1014\n",
      "0;1014\n",
      "100;1117\n",
      "200;1122\n",
      "0;1014\n",
      "100;1114\n",
      "200;1117\n",
      "CPU times: user 1.24 s, sys: 180 ms, total: 1.42 s\n",
      "Wall time: 1min 7s\n"
     ]
    }
   ],
   "source": [
    "%%time\n",
    "# lets use tourn V1 with removing winner but lett value so its possible 20,40\n",
    "# files change, 201 steps,  mut 0.05, mut evol 0.5,\n",
    "# worse fac 0.1, tournV1 20,40 , cross 80, 2 agents, seed = 0, SIZE = 250\n",
    "!python -m pyage.core.bootstrap pyage.satcnf.conf\n",
    "%cat fitness_pyage.satcnf.conf_pyage.txt"
   ]
  },
  {
   "cell_type": "code",
   "execution_count": 299,
   "metadata": {},
   "outputs": [],
   "source": [
    "plot_data=pd.read_csv(\"pyage-20180316_095442.log\",sep=\":\",header=None,index_col=0)\n",
    "plot_data=plot_data.dropna()\n",
    "step_col=plot_data.loc[::2][2]\n",
    "val_col=plot_data[1:][::2][2]\n",
    "plot_data=pd.DataFrame()\n",
    "plot_data[\"steps\"]=step_col\n",
    "plot_data[\"values\"]=val_col\n",
    "plot_data['steps'] = plot_data['steps'].apply(lambda value: value.replace(\"=\",\"\"))\n",
    "plot_data.index=plot_data['steps']\n",
    "plot_data.drop('steps', axis=1, inplace=True)\n",
    "plot_data10=plot_data"
   ]
  },
  {
   "cell_type": "code",
   "execution_count": 301,
   "metadata": {},
   "outputs": [
    {
     "data": {
      "text/plain": [
       "<matplotlib.axes._subplots.AxesSubplot at 0x7f0315d16910>"
      ]
     },
     "execution_count": 301,
     "metadata": {},
     "output_type": "execute_result"
    },
    {
     "data": {
      "image/png": "[encoded data removed]",
      "text/plain": [
       "<Figure size 432x288 with 1 Axes>"
      ]
     },
     "metadata": {},
     "output_type": "display_data"
    }
   ],
   "source": [
    "ax=plt.gca(title=\"Satcnf - 155 var - 1135 clauses - 250 size initialized\")\n",
    "\n",
    "plot_data8=plot_data8.astype(float)\n",
    "plot_data8.columns=[\"mut 0, cross 80, turn 10,30\"]\n",
    "plot_data8.plot(ax=ax)\n",
    "\n",
    "plot_data9=plot_data9.astype(float)\n",
    "plot_data9.columns=[\"mut 0, cross 80, turnV1 30,60 - not rm win\"]\n",
    "plot_data9.plot(ax=ax)\n",
    "\n",
    "plot_data10=plot_data10.astype(float)\n",
    "plot_data10.columns=[\"mut 0, cross 80, turnV1 20,40 - rm win\"]\n",
    "plot_data10.plot(ax=ax)"
   ]
  },
  {
   "cell_type": "code",
   "execution_count": 302,
   "metadata": {
    "scrolled": true
   },
   "outputs": [
    {
     "name": "stdout",
     "output_type": "stream",
     "text": [
      "0;1000\n",
      "0;1014\n",
      "0;998\n",
      "0;1004\n",
      "100;1087\n",
      "0;1014\n",
      "100;1056\n",
      "0;1000\n",
      "100;1093\n",
      "0;1014\n",
      "100;1115\n",
      "0;1014\n",
      "100;1081\n",
      "0;1014\n",
      "100;1120\n",
      "200;1120\n",
      "0;1014\n",
      "0;1014\n",
      "0;1014\n",
      "0;1014\n",
      "0;1014\n",
      "0;1014\n",
      "0;1014\n",
      "0;1014\n",
      "100;1117\n",
      "200;1122\n",
      "0;1014\n",
      "100;1114\n",
      "200;1117\n",
      "0;1014\n",
      "100;1120\n",
      "200;1120\n",
      "CPU times: user 1.33 s, sys: 112 ms, total: 1.44 s\n",
      "Wall time: 1min 7s\n"
     ]
    }
   ],
   "source": [
    "%%time\n",
    "# lets use tourn V1 with removing winner but lett value so its possible 20,40\n",
    "# files change, 201 steps,  mut 0.05, mut evol 0.5,\n",
    "# worse fac 0.1, tournV1 20,40 , cross 80, 2 agents, seed = 0, SIZE = 250\n",
    "!python -m pyage.core.bootstrap pyage.satcnf.conf\n",
    "%cat fitness_pyage.satcnf.conf_pyage.txt"
   ]
  },
  {
   "cell_type": "code",
   "execution_count": 303,
   "metadata": {},
   "outputs": [],
   "source": [
    "plot_data=pd.read_csv(\"pyage-20180316_095815.log\",sep=\":\",header=None,index_col=0)\n",
    "plot_data=plot_data.dropna()\n",
    "step_col=plot_data.loc[::2][2]\n",
    "val_col=plot_data[1:][::2][2]\n",
    "plot_data=pd.DataFrame()\n",
    "plot_data[\"steps\"]=step_col\n",
    "plot_data[\"values\"]=val_col\n",
    "plot_data['steps'] = plot_data['steps'].apply(lambda value: value.replace(\"=\",\"\"))\n",
    "plot_data.index=plot_data['steps']\n",
    "plot_data.drop('steps', axis=1, inplace=True)\n",
    "plot_data11=plot_data"
   ]
  },
  {
   "cell_type": "code",
   "execution_count": 304,
   "metadata": {},
   "outputs": [
    {
     "data": {
      "text/plain": [
       "<matplotlib.axes._subplots.AxesSubplot at 0x7f03157316d0>"
      ]
     },
     "execution_count": 304,
     "metadata": {},
     "output_type": "execute_result"
    },
    {
     "data": {
      "image/png": "[encoded data removed]",
      "text/plain": [
       "<Figure size 432x288 with 1 Axes>"
      ]
     },
     "metadata": {},
     "output_type": "display_data"
    }
   ],
   "source": [
    "ax=plt.gca(title=\"Satcnf - 155 var - 1135 clauses - 250 size initialized\")\n",
    "\n",
    "plot_data8=plot_data8.astype(float)\n",
    "plot_data8.columns=[\"mut 0, cross 80, turn 10,30\"]\n",
    "plot_data8.plot(ax=ax)\n",
    "\n",
    "plot_data9=plot_data9.astype(float)\n",
    "plot_data9.columns=[\"mut 0, cross 80, turnV1 30,60 - not rm win\"]\n",
    "plot_data9.plot(ax=ax)\n",
    "\n",
    "plot_data10=plot_data10.astype(float)\n",
    "plot_data10.columns=[\"mut 0, cross 80, turnV1 20,40 - rm win\"]\n",
    "plot_data10.plot(ax=ax)\n",
    "\n",
    "plot_data11=plot_data11.astype(float)\n",
    "plot_data11.columns=[\"2nd try, mut 0, cross 80, turnV1 20,40 - rm win\"]\n",
    "plot_data11.plot(ax=ax)"
   ]
  },
  {
   "cell_type": "markdown",
   "metadata": {},
   "source": [
    "# as we can see not removing winner makes results more stiff what was not expected due to differentiating results more but well, it would need more checking with more tries to confirm it"
   ]
  },
  {
   "cell_type": "code",
   "execution_count": null,
   "metadata": {},
   "outputs": [],
   "source": []
  }
 ],
 "metadata": {
  "kernelspec": {
   "display_name": "Python 2",
   "language": "python",
   "name": "python2"
  },
  "language_info": {
   "codemirror_mode": {
    "name": "ipython",
    "version": 2
   },
   "file_extension": ".py",
   "mimetype": "text/x-python",
   "name": "python",
   "nbconvert_exporter": "python",
   "pygments_lexer": "ipython2",
   "version": "2.7.14"
  }
 },
 "nbformat": 4,
 "nbformat_minor": 2
}

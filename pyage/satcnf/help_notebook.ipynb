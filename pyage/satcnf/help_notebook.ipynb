{
 "cells": [
  {
   "cell_type": "code",
   "execution_count": 1,
   "metadata": {},
   "outputs": [],
   "source": [
    "import pandas as pd\n",
    "import numpy as np"
   ]
  },
  {
   "cell_type": "code",
   "execution_count": 53,
   "metadata": {},
   "outputs": [],
   "source": [
    "cnf_file=pd.read_csv(\"50var-80claus-satisable.cnf\",skiprows=11,header=None,sep=\" \",usecols=[0,1,2])"
   ]
  },
  {
   "cell_type": "code",
   "execution_count": 62,
   "metadata": {},
   "outputs": [
    {
     "data": {
      "text/plain": [
       "array([[ 16,  17,  30],\n",
       "       [-17,  22,  30],\n",
       "       [-17, -22,  30],\n",
       "       [ 16, -30,  47],\n",
       "       [ 16, -30, -47],\n",
       "       [-16, -21,  31],\n",
       "       [-16, -21, -31],\n",
       "       [-16,  21, -28],\n",
       "       [-13,  21,  28],\n",
       "       [ 13, -16,  18],\n",
       "       [ 13, -18, -38],\n",
       "       [ 13, -18, -31],\n",
       "       [ 31,  38,  44],\n",
       "       [ -8,  31, -44],\n",
       "       [  8, -12, -44],\n",
       "       [  8,  12, -27],\n",
       "       [ 12,  27,  40],\n",
       "       [ -4,  27, -40],\n",
       "       [ 12,  23, -40],\n",
       "       [ -3,   4, -23],\n",
       "       [  3, -23, -49],\n",
       "       [  3, -13, -49],\n",
       "       [-23, -26,  49],\n",
       "       [ 12, -34,  49],\n",
       "       [-12,  26, -34],\n",
       "       [ 19,  34,  36],\n",
       "       [-19,  26,  36],\n",
       "       [-30,  34, -36],\n",
       "       [ 24,  34, -36],\n",
       "       [-24, -36,  43],\n",
       "       [  6,  42, -43],\n",
       "       [-24,  42, -43],\n",
       "       [ -5, -24, -42],\n",
       "       [  5,  20, -42],\n",
       "       [  5,  -7, -20],\n",
       "       [  4,   7,  10],\n",
       "       [ -4,  10, -20],\n",
       "       [  7, -10, -41],\n",
       "       [-10,  41,  46],\n",
       "       [-33,  41, -46],\n",
       "       [ 33, -37, -46],\n",
       "       [ 32,  33,  37],\n",
       "       [  6, -32,  37],\n",
       "       [ -6,  25, -32],\n",
       "       [ -6, -25, -48],\n",
       "       [ -9,  28,  48],\n",
       "       [ -9, -25, -28],\n",
       "       [ 19, -25,  48],\n",
       "       [  2,   9, -19],\n",
       "       [ -2, -19,  35],\n",
       "       [ -2,  22, -35],\n",
       "       [-22, -35,  50],\n",
       "       [-17, -35, -50],\n",
       "       [-29, -35, -50],\n",
       "       [ -1,  29, -50],\n",
       "       [  1,  11,  29],\n",
       "       [-11,  17, -45],\n",
       "       [-11,  39,  45],\n",
       "       [-26,  39,  45],\n",
       "       [ -3, -26,  45],\n",
       "       [-11,  15, -39],\n",
       "       [ 14, -15, -39],\n",
       "       [ 14, -15, -45],\n",
       "       [ 14, -15, -27],\n",
       "       [-14, -15,  47],\n",
       "       [ 17,  17,  40],\n",
       "       [  1, -29, -31],\n",
       "       [ -7,  32,  38],\n",
       "       [-14, -33, -47],\n",
       "       [ -1,   2,  -8],\n",
       "       [ 35,  43,  44],\n",
       "       [ 21,  21,  24],\n",
       "       [ 20,  29, -48],\n",
       "       [ 23,  35, -37],\n",
       "       [  2,  18, -33],\n",
       "       [ 15,  25, -45],\n",
       "       [  9,  14, -38],\n",
       "       [ -5,  11,  50],\n",
       "       [ -3, -13,  46],\n",
       "       [-13, -41,  43]])"
      ]
     },
     "execution_count": 62,
     "metadata": {},
     "output_type": "execute_result"
    }
   ],
   "source": [
    "cnf_file.values"
   ]
  },
  {
   "cell_type": "code",
   "execution_count": 63,
   "metadata": {},
   "outputs": [],
   "source": [
    "cnf_data=pd.read_csv(\"50var-80claus-satisable.cnf\",skiprows=11,header=None,sep=\" \",usecols=[0,1,2]).values"
   ]
  },
  {
   "cell_type": "code",
   "execution_count": 64,
   "metadata": {},
   "outputs": [
    {
     "data": {
      "text/plain": [
       "array([[ 16,  17,  30],\n",
       "       [-17,  22,  30],\n",
       "       [-17, -22,  30],\n",
       "       [ 16, -30,  47],\n",
       "       [ 16, -30, -47],\n",
       "       [-16, -21,  31],\n",
       "       [-16, -21, -31],\n",
       "       [-16,  21, -28],\n",
       "       [-13,  21,  28],\n",
       "       [ 13, -16,  18],\n",
       "       [ 13, -18, -38],\n",
       "       [ 13, -18, -31],\n",
       "       [ 31,  38,  44],\n",
       "       [ -8,  31, -44],\n",
       "       [  8, -12, -44],\n",
       "       [  8,  12, -27],\n",
       "       [ 12,  27,  40],\n",
       "       [ -4,  27, -40],\n",
       "       [ 12,  23, -40],\n",
       "       [ -3,   4, -23],\n",
       "       [  3, -23, -49],\n",
       "       [  3, -13, -49],\n",
       "       [-23, -26,  49],\n",
       "       [ 12, -34,  49],\n",
       "       [-12,  26, -34],\n",
       "       [ 19,  34,  36],\n",
       "       [-19,  26,  36],\n",
       "       [-30,  34, -36],\n",
       "       [ 24,  34, -36],\n",
       "       [-24, -36,  43],\n",
       "       [  6,  42, -43],\n",
       "       [-24,  42, -43],\n",
       "       [ -5, -24, -42],\n",
       "       [  5,  20, -42],\n",
       "       [  5,  -7, -20],\n",
       "       [  4,   7,  10],\n",
       "       [ -4,  10, -20],\n",
       "       [  7, -10, -41],\n",
       "       [-10,  41,  46],\n",
       "       [-33,  41, -46],\n",
       "       [ 33, -37, -46],\n",
       "       [ 32,  33,  37],\n",
       "       [  6, -32,  37],\n",
       "       [ -6,  25, -32],\n",
       "       [ -6, -25, -48],\n",
       "       [ -9,  28,  48],\n",
       "       [ -9, -25, -28],\n",
       "       [ 19, -25,  48],\n",
       "       [  2,   9, -19],\n",
       "       [ -2, -19,  35],\n",
       "       [ -2,  22, -35],\n",
       "       [-22, -35,  50],\n",
       "       [-17, -35, -50],\n",
       "       [-29, -35, -50],\n",
       "       [ -1,  29, -50],\n",
       "       [  1,  11,  29],\n",
       "       [-11,  17, -45],\n",
       "       [-11,  39,  45],\n",
       "       [-26,  39,  45],\n",
       "       [ -3, -26,  45],\n",
       "       [-11,  15, -39],\n",
       "       [ 14, -15, -39],\n",
       "       [ 14, -15, -45],\n",
       "       [ 14, -15, -27],\n",
       "       [-14, -15,  47],\n",
       "       [ 17,  17,  40],\n",
       "       [  1, -29, -31],\n",
       "       [ -7,  32,  38],\n",
       "       [-14, -33, -47],\n",
       "       [ -1,   2,  -8],\n",
       "       [ 35,  43,  44],\n",
       "       [ 21,  21,  24],\n",
       "       [ 20,  29, -48],\n",
       "       [ 23,  35, -37],\n",
       "       [  2,  18, -33],\n",
       "       [ 15,  25, -45],\n",
       "       [  9,  14, -38],\n",
       "       [ -5,  11,  50],\n",
       "       [ -3, -13,  46],\n",
       "       [-13, -41,  43]])"
      ]
     },
     "execution_count": 64,
     "metadata": {},
     "output_type": "execute_result"
    }
   ],
   "source": [
    "cnf_data"
   ]
  },
  {
   "cell_type": "code",
   "execution_count": 109,
   "metadata": {},
   "outputs": [
    {
     "data": {
      "text/plain": [
       "array([False,  True,  True, False,  True,  True,  True,  True,  True,\n",
       "        True])"
      ]
     },
     "execution_count": 109,
     "metadata": {},
     "output_type": "execute_result"
    }
   ],
   "source": [
    "N=10\n",
    "p=0.3\n",
    "np.random.seed(0)\n",
    "np.random.choice(a=[False, True], size=N)"
   ]
  },
  {
   "cell_type": "code",
   "execution_count": 486,
   "metadata": {},
   "outputs": [],
   "source": [
    "def SatCount(booleans,cnf):\n",
    "    count_good=0\n",
    "    for clause in cnf:\n",
    "        # now we have clause like: [4,-1,3], since clause can't have 0 we count from 1 upwards\n",
    "        # [4,-1,3] means one of 4,3 needs to be true OR 1 needs to be false\n",
    "        any_good=False\n",
    "        for clause_num in clause:\n",
    "            if  booleans[abs(clause_num)-1] == (clause_num > 0):\n",
    "                any_good=True\n",
    "                break\n",
    "        if any_good:\n",
    "            count_good+=1\n",
    "    return - count_good"
   ]
  },
  {
   "cell_type": "code",
   "execution_count": 186,
   "metadata": {},
   "outputs": [
    {
     "data": {
      "text/plain": [
       "-73"
      ]
     },
     "execution_count": 186,
     "metadata": {},
     "output_type": "execute_result"
    }
   ],
   "source": [
    "\n",
    "booleans=np.random.choice(a=[False, True], size=50)\n",
    "\n",
    "SatCount(booleans=booleans,cnf=cnf_data)"
   ]
  },
  {
   "cell_type": "code",
   "execution_count": 607,
   "metadata": {},
   "outputs": [],
   "source": [
    "import random\n",
    "\n",
    "\n",
    "\n",
    "\n",
    "class Operator(object):\n",
    "    def __init__(self, type=None):\n",
    "        super(Operator, self).__init__()\n",
    "        self.required_type = type\n",
    "\n",
    "    def process(self, population):\n",
    "        raise NotImplementedError()\n",
    "\n",
    "    def is_compatible(self, operator):\n",
    "        return  self.required_type == None\\\n",
    "                or operator.required_type == None\\\n",
    "                or operator.required_type == self.required_type\n",
    "\n",
    "            \n",
    "class SATGenotype(object):\n",
    "    def __init__(self, booleans):\n",
    "        super(SATGenotype, self).__init__()\n",
    "        self.booleans = list(booleans) # list of ordered bool values which will be used as variables in clauzules\n",
    "        self.fitness = None # at first will say how many clauzules are correct maybe changed later\n",
    "        \n",
    "    def __str__(self):\n",
    "        return \"{0}\\nfitness: {1}\".format(\"\\n\".join(map(str,self.booleans)), self.fitness)\n",
    "        \n",
    "\n",
    "import logging\n",
    "\n",
    "logger = logging.getLogger(__name__)\n",
    "\n",
    "class AbstractCrossover(Operator):\n",
    "    def __init__(self, type, size):\n",
    "        super(AbstractCrossover, self).__init__(type)\n",
    "        self.__size = size\n",
    "\n",
    "    def process(self, population):\n",
    "        parents = list(population)\n",
    "        for i in range(len(population), self.__size):\n",
    "            p1, p2 = random.sample(parents, 2)\n",
    "            genotype = self.cross(p1, p2)\n",
    "            population.append(genotype)\n",
    "\n",
    "# previous version\n",
    "class SATCrossover(AbstractCrossover):\n",
    "    def __init__(self, size):\n",
    "        super(SATCrossover, self).__init__(SATGenotype, size)\n",
    "\n",
    "    def cross(self, p1, p2):\n",
    "        logger.debug(\"Crossing:\\n{0}\\nAND\\n{1}\".format(p1, p2))\n",
    "        division = random.randint(1, len(p1.booleans)-2)\n",
    "        new_booleans = p1.booleans[:division] + p2.booleans[division:]\n",
    "        return SATGenotype(new_booleans)\n",
    "\n"
   ]
  },
  {
   "cell_type": "code",
   "execution_count": 228,
   "metadata": {},
   "outputs": [],
   "source": [
    "bo1=np.random.choice(a=[False, True], size=50)\n",
    "bo1gen=SATGenotype(bo1)\n",
    "bo2=np.random.choice(a=[False, True], size=50)\n",
    "bo2gen=SATGenotype(bo2)"
   ]
  },
  {
   "cell_type": "code",
   "execution_count": 233,
   "metadata": {},
   "outputs": [
    {
     "data": {
      "text/plain": [
       "array([False,  True,  True,  True,  True,  True,  True, False,  True,\n",
       "       False, False, False,  True,  True,  True, False, False,  True,\n",
       "        True, False, False, False, False, False, False,  True, False,\n",
       "       False,  True, False,  True, False,  True, False, False, False,\n",
       "       False,  True,  True,  True,  True,  True,  True, False, False,\n",
       "       False, False, False,  True, False])"
      ]
     },
     "execution_count": 233,
     "metadata": {},
     "output_type": "execute_result"
    }
   ],
   "source": [
    "np.array(bo1gen.booleans)"
   ]
  },
  {
   "cell_type": "code",
   "execution_count": 234,
   "metadata": {},
   "outputs": [
    {
     "data": {
      "text/plain": [
       "array([False, False,  True,  True,  True,  True, False,  True, False,\n",
       "        True,  True, False,  True, False, False,  True, False, False,\n",
       "       False,  True,  True,  True,  True,  True, False, False, False,\n",
       "       False, False, False,  True,  True, False,  True,  True, False,\n",
       "        True,  True,  True,  True, False, False, False,  True,  True,\n",
       "       False, False, False, False,  True])"
      ]
     },
     "execution_count": 234,
     "metadata": {},
     "output_type": "execute_result"
    }
   ],
   "source": [
    "np.array(bo2gen.booleans)"
   ]
  },
  {
   "cell_type": "code",
   "execution_count": 345,
   "metadata": {},
   "outputs": [
    {
     "data": {
      "text/plain": [
       "-68"
      ]
     },
     "execution_count": 345,
     "metadata": {},
     "output_type": "execute_result"
    }
   ],
   "source": [
    "new_bools=SATCrossover(None).cross(bo1gen,bo2gen).booleans\n",
    "SatCount(booleans=new_bools,cnf=cnf_data)"
   ]
  },
  {
   "cell_type": "code",
   "execution_count": 617,
   "metadata": {},
   "outputs": [
    {
     "name": "stdout",
     "output_type": "stream",
     "text": [
      "[False  True  True False False  True False False  True  True  True  True\n",
      " False  True  True False False  True  True  True  True  True  True False\n",
      " False  True  True  True  True  True  True False False  True  True False\n",
      "  True False False  True  True  True False  True False  True  True  True\n",
      " False  True]\n",
      "['0', '1']\n"
     ]
    },
    {
     "data": {
      "text/plain": [
       "array(['0', '1', '1', '0', '0', '1', '0', '0', '1', '1', '1', '1', '0',\n",
       "       '1', '1', '0', '0', '1', '1', '1', '1', '1', '1', '0', '0', '1',\n",
       "       '1', '1', '1', '1', '1', '0', '0', '1', '1', '0', '1', '0', '0',\n",
       "       '1', '1', '1', '0', '1', '0', '1', '1', '1', '0', '1'], dtype='|S1')"
      ]
     },
     "execution_count": 617,
     "metadata": {},
     "output_type": "execute_result"
    }
   ],
   "source": [
    "# choosing depending on from which array we should take\n",
    "x = np.arange(50)\n",
    "condlist = np.random.rand(len(bo1gen.booleans))>0.4\n",
    "print(condlist)\n",
    "choicelist = [\"0\",\"1\"]\n",
    "print(choicelist)\n",
    "np.choose(condlist,choicelist)"
   ]
  },
  {
   "cell_type": "code",
   "execution_count": 689,
   "metadata": {},
   "outputs": [],
   "source": [
    "# now lets take that to action:\n",
    "class SATCrossover(AbstractCrossover):\n",
    "    def __init__(self, size, max_fitness, worse_factor=0.4):\n",
    "        super(SATCrossover, self).__init__(SATGenotype, size)\n",
    "        self.max_fitness=max_fitness\n",
    "        self.worse_factor=worse_factor # probability of taking worse fitnessed value\n",
    "\n",
    "    def cross(self, p1, p2):\n",
    "        logger.debug(\"Crossing:\\n{0}\\nAND\\n{1}\".format(p1, p2))\n",
    "        # 1. chosse better fitness\n",
    "        if p2.fitness > p1.fitness:\n",
    "            p1,p2 = p2,p1 # swap\n",
    "        # p1 has better fitness\n",
    "        # 2. make array of True,False which will determine if we take value from p1 or p2\n",
    "        choose_array = np.random.rand(len(bo1gen.booleans))<self.worse_factor\n",
    "        # 3. choose values from p1 or p2 depending on choose_array\n",
    "        new_booleans = np.choose(choose_array,[p1.booleans,p2.booleans])\n",
    "        return SATGenotype(new_booleans)\n"
   ]
  },
  {
   "cell_type": "code",
   "execution_count": 690,
   "metadata": {},
   "outputs": [
    {
     "name": "stdout",
     "output_type": "stream",
     "text": [
      "69\n",
      "78\n"
     ]
    }
   ],
   "source": [
    "bo1gen.fitness=-SatCount(bo1gen.booleans,cnf_data)\n",
    "print(bo1gen.fitness)\n",
    "bo2gen.fitness=-SatCount(bo2gen.booleans,cnf_data)\n",
    "print(bo2gen.fitness)"
   ]
  },
  {
   "cell_type": "code",
   "execution_count": 847,
   "metadata": {},
   "outputs": [
    {
     "name": "stdout",
     "output_type": "stream",
     "text": [
      "[False, False, True, True, False, False, False, True, True, False, False, False, False, True, True, True, True, True, False, True, False, True, True, True, True, False, True, False, True, True, False, False, False, True, False, False, False, True, True, True, True, True, True, False, True, False, True, True, True, True]\n"
     ]
    },
    {
     "data": {
      "text/plain": [
       "-77"
      ]
     },
     "execution_count": 847,
     "metadata": {},
     "output_type": "execute_result"
    }
   ],
   "source": [
    "# max fitness = 80 since 80 clauses\n",
    "new_bools=SATCrossover(None,80,0.1).cross(bo1gen,bo2gen).booleans\n",
    "print(new_bools)\n",
    "SatCount(booleans=new_bools,cnf=cnf_data)"
   ]
  },
  {
   "cell_type": "markdown",
   "metadata": {},
   "source": [
    "# looks ok"
   ]
  },
  {
   "cell_type": "code",
   "execution_count": 849,
   "metadata": {},
   "outputs": [
    {
     "data": {
      "text/plain": [
       "50"
      ]
     },
     "execution_count": 849,
     "metadata": {},
     "output_type": "execute_result"
    }
   ],
   "source": [
    "cnf_data.max()"
   ]
  }
 ],
 "metadata": {
  "kernelspec": {
   "display_name": "Python 2",
   "language": "python",
   "name": "python2"
  },
  "language_info": {
   "codemirror_mode": {
    "name": "ipython",
    "version": 2
   },
   "file_extension": ".py",
   "mimetype": "text/x-python",
   "name": "python",
   "nbconvert_exporter": "python",
   "pygments_lexer": "ipython2",
   "version": "2.7.14"
  }
 },
 "nbformat": 4,
 "nbformat_minor": 2
}
